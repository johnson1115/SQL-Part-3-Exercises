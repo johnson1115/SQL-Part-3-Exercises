{
    "metadata": {
        "kernelspec": {
            "name": "SQL",
            "display_name": "SQL",
            "language": "sql"
        },
        "language_info": {
            "name": "sql",
            "version": ""
        },
        "extensions": {
            "azuredatastudio": {
                "version": 1,
                "views": []
            }
        }
    },
    "nbformat_minor": 2,
    "nbformat": 4,
    "cells": [
        {
            "cell_type": "markdown",
            "source": [
                "# SQL Part 3 Exercises Joins\n",
                "\n",
                "This notebook works with the BooksDB dataset.  \n",
                "\n",
                "**Questions 1-4** focus on how joins work in a more general sense.  If you are not sure how to best answer the questions, try manipulating the queries by changing the order of joins, the length of the TOP, or how they are ordered.  \n",
                "\n",
                "> <span style=\"background-color: rgba(127, 127, 127, 0.1);\"><i>Note</i>: If some of the queries are not returning quickly, you can try closing and restarting azure data studio after a few minutes.</span>\n",
                "\n",
                "In **questions 5-8**, you will be asked to join tables to find results about titles, tags, and the books users want to read.\n",
                "\n",
                "As you go through the questions, you will see 'Minimum Desired Output'.  This will provide you with the bare minimum columns needed to answer the questions.  When you write the queries, add as many additional columns as you need to best find your answers."
            ],
            "metadata": {
                "azdata_cell_guid": "db9534a9-c8a7-4c09-8180-bcba0690bb02"
            },
            "attachments": {}
        },
        {
            "cell_type": "markdown",
            "source": [
                "## **QUESTION 1:**  Exploring a LEFT JOIN using the **books** and **to\\_read** tables\n",
                "\n",
                "The code block below has been commented out. To answer this question, you will need to uncomment it by removing the **/\\*** (line 1) and **\\*/** (line 16).\n",
                "\n",
                "**Part A:** Look at Query 1, which table is the 'Left' table and which is the 'Right'?\n",
                "\n",
                "> Your Answer:  books is the left table, and to\\_read is the right. \n",
                "\n",
                "**Part B:** Using table 2, answer the following questions: \n",
                "\n",
                "- When we added a  '**WHERE tr.user\\_id IS NOT NULL'** clause (line 14), how did the table change?  Why?\n",
                "\n",
                "> Your Answer: The results were different than the previous table by not showing the rows with NULL values, becuase of the IS NOT NULL statement in the WHERE clause."
            ],
            "metadata": {
                "azdata_cell_guid": "660be568-9a70-40ff-a2fa-a78e31e87b6f"
            },
            "attachments": {}
        },
        {
            "cell_type": "code",
            "source": [
                "\n",
                "-- Query 1: LEFT JOIN \n",
                "SELECT TOP 50 b.title, b.average_rating, b.books_count,tr.user_id, tr.book_id\n",
                "FROM BooksDB.dbo.books AS b\n",
                "LEFT JOIN BooksDB.dbo.to_read AS tr\n",
                "ON b.best_book_id = tr.book_id\n",
                "ORDER BY b.average_rating;\n",
                "\n",
                "-- Query 2: LEFT JOIN USING 'IS NOT NULL'\n",
                "SELECT TOP 50 b.title, b.average_rating, b.books_count,tr.user_id, tr.book_id\n",
                "FROM BooksDB.dbo.books AS b\n",
                "LEFT JOIN BooksDB.dbo.to_read AS tr\n",
                "ON b.best_book_id = tr.book_id\n",
                "WHERE tr.user_id IS NOT NULL\n",
                "ORDER BY b.average_rating;\n",
                ""
            ],
            "metadata": {
                "azdata_cell_guid": "25dcd34c-5e5d-4393-9da0-a4c0effb6455",
                "tags": [],
                "language": "sql"
            },
            "outputs": [
                {
                    "output_type": "display_data",
                    "data": {
                        "text/html": "(50 rows affected)"
                    },
                    "metadata": {}
                },
                {
                    "output_type": "display_data",
                    "data": {
                        "text/html": "(50 rows affected)"
                    },
                    "metadata": {}
                },
                {
                    "output_type": "display_data",
                    "data": {
                        "text/html": "Total execution time: 00:00:08.036"
                    },
                    "metadata": {}
                },
                {
                    "output_type": "execute_result",
                    "execution_count": 2,
                    "data": {
                        "application/vnd.dataresource+json": {
                            "schema": {
                                "fields": [
                                    {
                                        "name": "title"
                                    },
                                    {
                                        "name": "average_rating"
                                    },
                                    {
                                        "name": "books_count"
                                    },
                                    {
                                        "name": "user_id"
                                    },
                                    {
                                        "name": "book_id"
                                    }
                                ]
                            },
                            "data": [
                                {
                                    "0": "One Night at the Call Center",
                                    "1": "2.47",
                                    "2": "25",
                                    "3": "NULL",
                                    "4": "NULL"
                                },
                                {
                                    "0": "The Almost Moon",
                                    "1": "2.67",
                                    "2": "63",
                                    "3": "NULL",
                                    "4": "NULL"
                                },
                                {
                                    "0": "The Finkler Question",
                                    "1": "2.76",
                                    "2": "45",
                                    "3": "NULL",
                                    "4": "NULL"
                                },
                                {
                                    "0": "Four Blondes",
                                    "1": "2.8",
                                    "2": "57",
                                    "3": "449",
                                    "4": "6613"
                                },
                                {
                                    "0": "Four Blondes",
                                    "1": "2.8",
                                    "2": "57",
                                    "3": "1378",
                                    "4": "6613"
                                },
                                {
                                    "0": "Four Blondes",
                                    "1": "2.8",
                                    "2": "57",
                                    "3": "6465",
                                    "4": "6613"
                                },
                                {
                                    "0": "Four Blondes",
                                    "1": "2.8",
                                    "2": "57",
                                    "3": "6700",
                                    "4": "6613"
                                },
                                {
                                    "0": "Four Blondes",
                                    "1": "2.8",
                                    "2": "57",
                                    "3": "7830",
                                    "4": "6613"
                                },
                                {
                                    "0": "Four Blondes",
                                    "1": "2.8",
                                    "2": "57",
                                    "3": "10085",
                                    "4": "6613"
                                },
                                {
                                    "0": "Four Blondes",
                                    "1": "2.8",
                                    "2": "57",
                                    "3": "16298",
                                    "4": "6613"
                                },
                                {
                                    "0": "Four Blondes",
                                    "1": "2.8",
                                    "2": "57",
                                    "3": "16845",
                                    "4": "6613"
                                },
                                {
                                    "0": "Four Blondes",
                                    "1": "2.8",
                                    "2": "57",
                                    "3": "17470",
                                    "4": "6613"
                                },
                                {
                                    "0": "Four Blondes",
                                    "1": "2.8",
                                    "2": "57",
                                    "3": "19763",
                                    "4": "6613"
                                },
                                {
                                    "0": "Four Blondes",
                                    "1": "2.8",
                                    "2": "57",
                                    "3": "21938",
                                    "4": "6613"
                                },
                                {
                                    "0": "Four Blondes",
                                    "1": "2.8",
                                    "2": "57",
                                    "3": "22289",
                                    "4": "6613"
                                },
                                {
                                    "0": "Four Blondes",
                                    "1": "2.8",
                                    "2": "57",
                                    "3": "23758",
                                    "4": "6613"
                                },
                                {
                                    "0": "Four Blondes",
                                    "1": "2.8",
                                    "2": "57",
                                    "3": "27874",
                                    "4": "6613"
                                },
                                {
                                    "0": "Four Blondes",
                                    "1": "2.8",
                                    "2": "57",
                                    "3": "28690",
                                    "4": "6613"
                                },
                                {
                                    "0": "Four Blondes",
                                    "1": "2.8",
                                    "2": "57",
                                    "3": "29023",
                                    "4": "6613"
                                },
                                {
                                    "0": "Four Blondes",
                                    "1": "2.8",
                                    "2": "57",
                                    "3": "29315",
                                    "4": "6613"
                                },
                                {
                                    "0": "Four Blondes",
                                    "1": "2.8",
                                    "2": "57",
                                    "3": "30245",
                                    "4": "6613"
                                },
                                {
                                    "0": "Four Blondes",
                                    "1": "2.8",
                                    "2": "57",
                                    "3": "36128",
                                    "4": "6613"
                                },
                                {
                                    "0": "Four Blondes",
                                    "1": "2.8",
                                    "2": "57",
                                    "3": "36554",
                                    "4": "6613"
                                },
                                {
                                    "0": "Four Blondes",
                                    "1": "2.8",
                                    "2": "57",
                                    "3": "38159",
                                    "4": "6613"
                                },
                                {
                                    "0": "Four Blondes",
                                    "1": "2.8",
                                    "2": "57",
                                    "3": "38800",
                                    "4": "6613"
                                },
                                {
                                    "0": "Four Blondes",
                                    "1": "2.8",
                                    "2": "57",
                                    "3": "40361",
                                    "4": "6613"
                                },
                                {
                                    "0": "Four Blondes",
                                    "1": "2.8",
                                    "2": "57",
                                    "3": "40529",
                                    "4": "6613"
                                },
                                {
                                    "0": "Four Blondes",
                                    "1": "2.8",
                                    "2": "57",
                                    "3": "41485",
                                    "4": "6613"
                                },
                                {
                                    "0": "Four Blondes",
                                    "1": "2.8",
                                    "2": "57",
                                    "3": "42706",
                                    "4": "6613"
                                },
                                {
                                    "0": "Four Blondes",
                                    "1": "2.8",
                                    "2": "57",
                                    "3": "45206",
                                    "4": "6613"
                                },
                                {
                                    "0": "Four Blondes",
                                    "1": "2.8",
                                    "2": "57",
                                    "3": "45689",
                                    "4": "6613"
                                },
                                {
                                    "0": "Four Blondes",
                                    "1": "2.8",
                                    "2": "57",
                                    "3": "49499",
                                    "4": "6613"
                                },
                                {
                                    "0": "Four Blondes",
                                    "1": "2.8",
                                    "2": "57",
                                    "3": "51105",
                                    "4": "6613"
                                },
                                {
                                    "0": "Four Blondes",
                                    "1": "2.8",
                                    "2": "57",
                                    "3": "51671",
                                    "4": "6613"
                                },
                                {
                                    "0": "Four Blondes",
                                    "1": "2.8",
                                    "2": "57",
                                    "3": "52109",
                                    "4": "6613"
                                },
                                {
                                    "0": "Lost",
                                    "1": "2.8",
                                    "2": "18",
                                    "3": "NULL",
                                    "4": "NULL"
                                },
                                {
                                    "0": "Tell-All",
                                    "1": "2.84",
                                    "2": "37",
                                    "3": "NULL",
                                    "4": "NULL"
                                },
                                {
                                    "0": "Revenge Wears Prada: The Devil Returns (The Devil Wears Prada, #2)",
                                    "1": "2.84",
                                    "2": "59",
                                    "3": "NULL",
                                    "4": "NULL"
                                },
                                {
                                    "0": "Among the Ten Thousand Things",
                                    "1": "2.84",
                                    "2": "19",
                                    "3": "NULL",
                                    "4": "NULL"
                                },
                                {
                                    "0": "The Emperor's Children",
                                    "1": "2.93",
                                    "2": "45",
                                    "3": "7860",
                                    "4": "3648"
                                },
                                {
                                    "0": "The Emperor's Children",
                                    "1": "2.93",
                                    "2": "45",
                                    "3": "11320",
                                    "4": "3648"
                                },
                                {
                                    "0": "The Emperor's Children",
                                    "1": "2.93",
                                    "2": "45",
                                    "3": "12686",
                                    "4": "3648"
                                },
                                {
                                    "0": "The Emperor's Children",
                                    "1": "2.93",
                                    "2": "45",
                                    "3": "12729",
                                    "4": "3648"
                                },
                                {
                                    "0": "The Emperor's Children",
                                    "1": "2.93",
                                    "2": "45",
                                    "3": "12891",
                                    "4": "3648"
                                },
                                {
                                    "0": "The Emperor's Children",
                                    "1": "2.93",
                                    "2": "45",
                                    "3": "16933",
                                    "4": "3648"
                                },
                                {
                                    "0": "The Emperor's Children",
                                    "1": "2.93",
                                    "2": "45",
                                    "3": "17093",
                                    "4": "3648"
                                },
                                {
                                    "0": "The Emperor's Children",
                                    "1": "2.93",
                                    "2": "45",
                                    "3": "24036",
                                    "4": "3648"
                                },
                                {
                                    "0": "The Emperor's Children",
                                    "1": "2.93",
                                    "2": "45",
                                    "3": "35122",
                                    "4": "3648"
                                },
                                {
                                    "0": "The Emperor's Children",
                                    "1": "2.93",
                                    "2": "45",
                                    "3": "36022",
                                    "4": "3648"
                                },
                                {
                                    "0": "The Emperor's Children",
                                    "1": "2.93",
                                    "2": "45",
                                    "3": "36952",
                                    "4": "3648"
                                }
                            ]
                        },
                        "text/html": "<table><tr><th>title</th><th>average_rating</th><th>books_count</th><th>user_id</th><th>book_id</th></tr><tr><td>One Night at the Call Center</td><td>2.47</td><td>25</td><td>NULL</td><td>NULL</td></tr><tr><td>The Almost Moon</td><td>2.67</td><td>63</td><td>NULL</td><td>NULL</td></tr><tr><td>The Finkler Question</td><td>2.76</td><td>45</td><td>NULL</td><td>NULL</td></tr><tr><td>Four Blondes</td><td>2.8</td><td>57</td><td>449</td><td>6613</td></tr><tr><td>Four Blondes</td><td>2.8</td><td>57</td><td>1378</td><td>6613</td></tr><tr><td>Four Blondes</td><td>2.8</td><td>57</td><td>6465</td><td>6613</td></tr><tr><td>Four Blondes</td><td>2.8</td><td>57</td><td>6700</td><td>6613</td></tr><tr><td>Four Blondes</td><td>2.8</td><td>57</td><td>7830</td><td>6613</td></tr><tr><td>Four Blondes</td><td>2.8</td><td>57</td><td>10085</td><td>6613</td></tr><tr><td>Four Blondes</td><td>2.8</td><td>57</td><td>16298</td><td>6613</td></tr><tr><td>Four Blondes</td><td>2.8</td><td>57</td><td>16845</td><td>6613</td></tr><tr><td>Four Blondes</td><td>2.8</td><td>57</td><td>17470</td><td>6613</td></tr><tr><td>Four Blondes</td><td>2.8</td><td>57</td><td>19763</td><td>6613</td></tr><tr><td>Four Blondes</td><td>2.8</td><td>57</td><td>21938</td><td>6613</td></tr><tr><td>Four Blondes</td><td>2.8</td><td>57</td><td>22289</td><td>6613</td></tr><tr><td>Four Blondes</td><td>2.8</td><td>57</td><td>23758</td><td>6613</td></tr><tr><td>Four Blondes</td><td>2.8</td><td>57</td><td>27874</td><td>6613</td></tr><tr><td>Four Blondes</td><td>2.8</td><td>57</td><td>28690</td><td>6613</td></tr><tr><td>Four Blondes</td><td>2.8</td><td>57</td><td>29023</td><td>6613</td></tr><tr><td>Four Blondes</td><td>2.8</td><td>57</td><td>29315</td><td>6613</td></tr><tr><td>Four Blondes</td><td>2.8</td><td>57</td><td>30245</td><td>6613</td></tr><tr><td>Four Blondes</td><td>2.8</td><td>57</td><td>36128</td><td>6613</td></tr><tr><td>Four Blondes</td><td>2.8</td><td>57</td><td>36554</td><td>6613</td></tr><tr><td>Four Blondes</td><td>2.8</td><td>57</td><td>38159</td><td>6613</td></tr><tr><td>Four Blondes</td><td>2.8</td><td>57</td><td>38800</td><td>6613</td></tr><tr><td>Four Blondes</td><td>2.8</td><td>57</td><td>40361</td><td>6613</td></tr><tr><td>Four Blondes</td><td>2.8</td><td>57</td><td>40529</td><td>6613</td></tr><tr><td>Four Blondes</td><td>2.8</td><td>57</td><td>41485</td><td>6613</td></tr><tr><td>Four Blondes</td><td>2.8</td><td>57</td><td>42706</td><td>6613</td></tr><tr><td>Four Blondes</td><td>2.8</td><td>57</td><td>45206</td><td>6613</td></tr><tr><td>Four Blondes</td><td>2.8</td><td>57</td><td>45689</td><td>6613</td></tr><tr><td>Four Blondes</td><td>2.8</td><td>57</td><td>49499</td><td>6613</td></tr><tr><td>Four Blondes</td><td>2.8</td><td>57</td><td>51105</td><td>6613</td></tr><tr><td>Four Blondes</td><td>2.8</td><td>57</td><td>51671</td><td>6613</td></tr><tr><td>Four Blondes</td><td>2.8</td><td>57</td><td>52109</td><td>6613</td></tr><tr><td>Lost</td><td>2.8</td><td>18</td><td>NULL</td><td>NULL</td></tr><tr><td>Tell-All</td><td>2.84</td><td>37</td><td>NULL</td><td>NULL</td></tr><tr><td>Revenge Wears Prada: The Devil Returns (The Devil Wears Prada, #2)</td><td>2.84</td><td>59</td><td>NULL</td><td>NULL</td></tr><tr><td>Among the Ten Thousand Things</td><td>2.84</td><td>19</td><td>NULL</td><td>NULL</td></tr><tr><td>The Emperor's Children</td><td>2.93</td><td>45</td><td>7860</td><td>3648</td></tr><tr><td>The Emperor's Children</td><td>2.93</td><td>45</td><td>11320</td><td>3648</td></tr><tr><td>The Emperor's Children</td><td>2.93</td><td>45</td><td>12686</td><td>3648</td></tr><tr><td>The Emperor's Children</td><td>2.93</td><td>45</td><td>12729</td><td>3648</td></tr><tr><td>The Emperor's Children</td><td>2.93</td><td>45</td><td>12891</td><td>3648</td></tr><tr><td>The Emperor's Children</td><td>2.93</td><td>45</td><td>16933</td><td>3648</td></tr><tr><td>The Emperor's Children</td><td>2.93</td><td>45</td><td>17093</td><td>3648</td></tr><tr><td>The Emperor's Children</td><td>2.93</td><td>45</td><td>24036</td><td>3648</td></tr><tr><td>The Emperor's Children</td><td>2.93</td><td>45</td><td>35122</td><td>3648</td></tr><tr><td>The Emperor's Children</td><td>2.93</td><td>45</td><td>36022</td><td>3648</td></tr><tr><td>The Emperor's Children</td><td>2.93</td><td>45</td><td>36952</td><td>3648</td></tr></table>"
                    },
                    "metadata": {}
                },
                {
                    "output_type": "execute_result",
                    "execution_count": 2,
                    "data": {
                        "application/vnd.dataresource+json": {
                            "schema": {
                                "fields": [
                                    {
                                        "name": "title"
                                    },
                                    {
                                        "name": "average_rating"
                                    },
                                    {
                                        "name": "books_count"
                                    },
                                    {
                                        "name": "user_id"
                                    },
                                    {
                                        "name": "book_id"
                                    }
                                ]
                            },
                            "data": [
                                {
                                    "0": "Four Blondes",
                                    "1": "2.8",
                                    "2": "57",
                                    "3": "449",
                                    "4": "6613"
                                },
                                {
                                    "0": "Four Blondes",
                                    "1": "2.8",
                                    "2": "57",
                                    "3": "1378",
                                    "4": "6613"
                                },
                                {
                                    "0": "Four Blondes",
                                    "1": "2.8",
                                    "2": "57",
                                    "3": "6465",
                                    "4": "6613"
                                },
                                {
                                    "0": "Four Blondes",
                                    "1": "2.8",
                                    "2": "57",
                                    "3": "6700",
                                    "4": "6613"
                                },
                                {
                                    "0": "Four Blondes",
                                    "1": "2.8",
                                    "2": "57",
                                    "3": "7830",
                                    "4": "6613"
                                },
                                {
                                    "0": "Four Blondes",
                                    "1": "2.8",
                                    "2": "57",
                                    "3": "10085",
                                    "4": "6613"
                                },
                                {
                                    "0": "Four Blondes",
                                    "1": "2.8",
                                    "2": "57",
                                    "3": "16298",
                                    "4": "6613"
                                },
                                {
                                    "0": "Four Blondes",
                                    "1": "2.8",
                                    "2": "57",
                                    "3": "16845",
                                    "4": "6613"
                                },
                                {
                                    "0": "Four Blondes",
                                    "1": "2.8",
                                    "2": "57",
                                    "3": "17470",
                                    "4": "6613"
                                },
                                {
                                    "0": "Four Blondes",
                                    "1": "2.8",
                                    "2": "57",
                                    "3": "19763",
                                    "4": "6613"
                                },
                                {
                                    "0": "Four Blondes",
                                    "1": "2.8",
                                    "2": "57",
                                    "3": "21938",
                                    "4": "6613"
                                },
                                {
                                    "0": "Four Blondes",
                                    "1": "2.8",
                                    "2": "57",
                                    "3": "22289",
                                    "4": "6613"
                                },
                                {
                                    "0": "Four Blondes",
                                    "1": "2.8",
                                    "2": "57",
                                    "3": "23758",
                                    "4": "6613"
                                },
                                {
                                    "0": "Four Blondes",
                                    "1": "2.8",
                                    "2": "57",
                                    "3": "27874",
                                    "4": "6613"
                                },
                                {
                                    "0": "Four Blondes",
                                    "1": "2.8",
                                    "2": "57",
                                    "3": "28690",
                                    "4": "6613"
                                },
                                {
                                    "0": "Four Blondes",
                                    "1": "2.8",
                                    "2": "57",
                                    "3": "29023",
                                    "4": "6613"
                                },
                                {
                                    "0": "Four Blondes",
                                    "1": "2.8",
                                    "2": "57",
                                    "3": "29315",
                                    "4": "6613"
                                },
                                {
                                    "0": "Four Blondes",
                                    "1": "2.8",
                                    "2": "57",
                                    "3": "30245",
                                    "4": "6613"
                                },
                                {
                                    "0": "Four Blondes",
                                    "1": "2.8",
                                    "2": "57",
                                    "3": "36128",
                                    "4": "6613"
                                },
                                {
                                    "0": "Four Blondes",
                                    "1": "2.8",
                                    "2": "57",
                                    "3": "36554",
                                    "4": "6613"
                                },
                                {
                                    "0": "Four Blondes",
                                    "1": "2.8",
                                    "2": "57",
                                    "3": "38159",
                                    "4": "6613"
                                },
                                {
                                    "0": "Four Blondes",
                                    "1": "2.8",
                                    "2": "57",
                                    "3": "38800",
                                    "4": "6613"
                                },
                                {
                                    "0": "Four Blondes",
                                    "1": "2.8",
                                    "2": "57",
                                    "3": "40361",
                                    "4": "6613"
                                },
                                {
                                    "0": "Four Blondes",
                                    "1": "2.8",
                                    "2": "57",
                                    "3": "40529",
                                    "4": "6613"
                                },
                                {
                                    "0": "Four Blondes",
                                    "1": "2.8",
                                    "2": "57",
                                    "3": "41485",
                                    "4": "6613"
                                },
                                {
                                    "0": "Four Blondes",
                                    "1": "2.8",
                                    "2": "57",
                                    "3": "42706",
                                    "4": "6613"
                                },
                                {
                                    "0": "Four Blondes",
                                    "1": "2.8",
                                    "2": "57",
                                    "3": "45206",
                                    "4": "6613"
                                },
                                {
                                    "0": "Four Blondes",
                                    "1": "2.8",
                                    "2": "57",
                                    "3": "45689",
                                    "4": "6613"
                                },
                                {
                                    "0": "Four Blondes",
                                    "1": "2.8",
                                    "2": "57",
                                    "3": "49499",
                                    "4": "6613"
                                },
                                {
                                    "0": "Four Blondes",
                                    "1": "2.8",
                                    "2": "57",
                                    "3": "51105",
                                    "4": "6613"
                                },
                                {
                                    "0": "Four Blondes",
                                    "1": "2.8",
                                    "2": "57",
                                    "3": "51671",
                                    "4": "6613"
                                },
                                {
                                    "0": "Four Blondes",
                                    "1": "2.8",
                                    "2": "57",
                                    "3": "52109",
                                    "4": "6613"
                                },
                                {
                                    "0": "The Emperor's Children",
                                    "1": "2.93",
                                    "2": "45",
                                    "3": "7860",
                                    "4": "3648"
                                },
                                {
                                    "0": "The Emperor's Children",
                                    "1": "2.93",
                                    "2": "45",
                                    "3": "11320",
                                    "4": "3648"
                                },
                                {
                                    "0": "The Emperor's Children",
                                    "1": "2.93",
                                    "2": "45",
                                    "3": "12686",
                                    "4": "3648"
                                },
                                {
                                    "0": "The Emperor's Children",
                                    "1": "2.93",
                                    "2": "45",
                                    "3": "12729",
                                    "4": "3648"
                                },
                                {
                                    "0": "The Emperor's Children",
                                    "1": "2.93",
                                    "2": "45",
                                    "3": "12891",
                                    "4": "3648"
                                },
                                {
                                    "0": "The Emperor's Children",
                                    "1": "2.93",
                                    "2": "45",
                                    "3": "16933",
                                    "4": "3648"
                                },
                                {
                                    "0": "The Emperor's Children",
                                    "1": "2.93",
                                    "2": "45",
                                    "3": "17093",
                                    "4": "3648"
                                },
                                {
                                    "0": "The Emperor's Children",
                                    "1": "2.93",
                                    "2": "45",
                                    "3": "24036",
                                    "4": "3648"
                                },
                                {
                                    "0": "The Emperor's Children",
                                    "1": "2.93",
                                    "2": "45",
                                    "3": "35122",
                                    "4": "3648"
                                },
                                {
                                    "0": "The Emperor's Children",
                                    "1": "2.93",
                                    "2": "45",
                                    "3": "36022",
                                    "4": "3648"
                                },
                                {
                                    "0": "The Emperor's Children",
                                    "1": "2.93",
                                    "2": "45",
                                    "3": "36952",
                                    "4": "3648"
                                },
                                {
                                    "0": "The Emperor's Children",
                                    "1": "2.93",
                                    "2": "45",
                                    "3": "38430",
                                    "4": "3648"
                                },
                                {
                                    "0": "The Emperor's Children",
                                    "1": "2.93",
                                    "2": "45",
                                    "3": "39414",
                                    "4": "3648"
                                },
                                {
                                    "0": "The Emperor's Children",
                                    "1": "2.93",
                                    "2": "45",
                                    "3": "45261",
                                    "4": "3648"
                                },
                                {
                                    "0": "The Emperor's Children",
                                    "1": "2.93",
                                    "2": "45",
                                    "3": "45497",
                                    "4": "3648"
                                },
                                {
                                    "0": "The Emperor's Children",
                                    "1": "2.93",
                                    "2": "45",
                                    "3": "45747",
                                    "4": "3648"
                                },
                                {
                                    "0": "The Emperor's Children",
                                    "1": "2.93",
                                    "2": "45",
                                    "3": "48502",
                                    "4": "3648"
                                },
                                {
                                    "0": "The Emperor's Children",
                                    "1": "2.93",
                                    "2": "45",
                                    "3": "49233",
                                    "4": "3648"
                                }
                            ]
                        },
                        "text/html": "<table><tr><th>title</th><th>average_rating</th><th>books_count</th><th>user_id</th><th>book_id</th></tr><tr><td>Four Blondes</td><td>2.8</td><td>57</td><td>449</td><td>6613</td></tr><tr><td>Four Blondes</td><td>2.8</td><td>57</td><td>1378</td><td>6613</td></tr><tr><td>Four Blondes</td><td>2.8</td><td>57</td><td>6465</td><td>6613</td></tr><tr><td>Four Blondes</td><td>2.8</td><td>57</td><td>6700</td><td>6613</td></tr><tr><td>Four Blondes</td><td>2.8</td><td>57</td><td>7830</td><td>6613</td></tr><tr><td>Four Blondes</td><td>2.8</td><td>57</td><td>10085</td><td>6613</td></tr><tr><td>Four Blondes</td><td>2.8</td><td>57</td><td>16298</td><td>6613</td></tr><tr><td>Four Blondes</td><td>2.8</td><td>57</td><td>16845</td><td>6613</td></tr><tr><td>Four Blondes</td><td>2.8</td><td>57</td><td>17470</td><td>6613</td></tr><tr><td>Four Blondes</td><td>2.8</td><td>57</td><td>19763</td><td>6613</td></tr><tr><td>Four Blondes</td><td>2.8</td><td>57</td><td>21938</td><td>6613</td></tr><tr><td>Four Blondes</td><td>2.8</td><td>57</td><td>22289</td><td>6613</td></tr><tr><td>Four Blondes</td><td>2.8</td><td>57</td><td>23758</td><td>6613</td></tr><tr><td>Four Blondes</td><td>2.8</td><td>57</td><td>27874</td><td>6613</td></tr><tr><td>Four Blondes</td><td>2.8</td><td>57</td><td>28690</td><td>6613</td></tr><tr><td>Four Blondes</td><td>2.8</td><td>57</td><td>29023</td><td>6613</td></tr><tr><td>Four Blondes</td><td>2.8</td><td>57</td><td>29315</td><td>6613</td></tr><tr><td>Four Blondes</td><td>2.8</td><td>57</td><td>30245</td><td>6613</td></tr><tr><td>Four Blondes</td><td>2.8</td><td>57</td><td>36128</td><td>6613</td></tr><tr><td>Four Blondes</td><td>2.8</td><td>57</td><td>36554</td><td>6613</td></tr><tr><td>Four Blondes</td><td>2.8</td><td>57</td><td>38159</td><td>6613</td></tr><tr><td>Four Blondes</td><td>2.8</td><td>57</td><td>38800</td><td>6613</td></tr><tr><td>Four Blondes</td><td>2.8</td><td>57</td><td>40361</td><td>6613</td></tr><tr><td>Four Blondes</td><td>2.8</td><td>57</td><td>40529</td><td>6613</td></tr><tr><td>Four Blondes</td><td>2.8</td><td>57</td><td>41485</td><td>6613</td></tr><tr><td>Four Blondes</td><td>2.8</td><td>57</td><td>42706</td><td>6613</td></tr><tr><td>Four Blondes</td><td>2.8</td><td>57</td><td>45206</td><td>6613</td></tr><tr><td>Four Blondes</td><td>2.8</td><td>57</td><td>45689</td><td>6613</td></tr><tr><td>Four Blondes</td><td>2.8</td><td>57</td><td>49499</td><td>6613</td></tr><tr><td>Four Blondes</td><td>2.8</td><td>57</td><td>51105</td><td>6613</td></tr><tr><td>Four Blondes</td><td>2.8</td><td>57</td><td>51671</td><td>6613</td></tr><tr><td>Four Blondes</td><td>2.8</td><td>57</td><td>52109</td><td>6613</td></tr><tr><td>The Emperor's Children</td><td>2.93</td><td>45</td><td>7860</td><td>3648</td></tr><tr><td>The Emperor's Children</td><td>2.93</td><td>45</td><td>11320</td><td>3648</td></tr><tr><td>The Emperor's Children</td><td>2.93</td><td>45</td><td>12686</td><td>3648</td></tr><tr><td>The Emperor's Children</td><td>2.93</td><td>45</td><td>12729</td><td>3648</td></tr><tr><td>The Emperor's Children</td><td>2.93</td><td>45</td><td>12891</td><td>3648</td></tr><tr><td>The Emperor's Children</td><td>2.93</td><td>45</td><td>16933</td><td>3648</td></tr><tr><td>The Emperor's Children</td><td>2.93</td><td>45</td><td>17093</td><td>3648</td></tr><tr><td>The Emperor's Children</td><td>2.93</td><td>45</td><td>24036</td><td>3648</td></tr><tr><td>The Emperor's Children</td><td>2.93</td><td>45</td><td>35122</td><td>3648</td></tr><tr><td>The Emperor's Children</td><td>2.93</td><td>45</td><td>36022</td><td>3648</td></tr><tr><td>The Emperor's Children</td><td>2.93</td><td>45</td><td>36952</td><td>3648</td></tr><tr><td>The Emperor's Children</td><td>2.93</td><td>45</td><td>38430</td><td>3648</td></tr><tr><td>The Emperor's Children</td><td>2.93</td><td>45</td><td>39414</td><td>3648</td></tr><tr><td>The Emperor's Children</td><td>2.93</td><td>45</td><td>45261</td><td>3648</td></tr><tr><td>The Emperor's Children</td><td>2.93</td><td>45</td><td>45497</td><td>3648</td></tr><tr><td>The Emperor's Children</td><td>2.93</td><td>45</td><td>45747</td><td>3648</td></tr><tr><td>The Emperor's Children</td><td>2.93</td><td>45</td><td>48502</td><td>3648</td></tr><tr><td>The Emperor's Children</td><td>2.93</td><td>45</td><td>49233</td><td>3648</td></tr></table>"
                    },
                    "metadata": {}
                }
            ],
            "execution_count": 2
        },
        {
            "cell_type": "markdown",
            "source": [
                "## **QUESTION 2:** Exploring **RIGHT** joins with the **books** and **to\\_read** tables\n",
                "\n",
                "You will need to uncomment the Query to answer the question.\n",
                "\n",
                "**Part A:** Looking at the query, which table is the 'Left' and which is the 'Right'?\n",
                "\n",
                "> Your Answer: Left table is the books table, and right is the to\\_read table. \n",
                "\n",
                "**Part B:** How do the RIGHT-joined tables differ from the LEFT-joined tables in Question 1?  \n",
                "\n",
                "> Your Answer: The right join matches the tables according to where they have values similiar on the right table, and the NULL values are in place for the left table where they do not meet up with the right table. Unlike Question 1, the NULL values you see are on the right hand side. As the join in question 1 merged on the left side."
            ],
            "metadata": {
                "azdata_cell_guid": "c1e417d9-89d2-4a7d-ab46-b43c8bddc54f"
            },
            "attachments": {}
        },
        {
            "cell_type": "code",
            "source": [
                "\n",
                "-- Query 1: RIGHT JOIN\n",
                "SELECT TOP 300 b.title, b.average_rating, b.books_count, tr.user_id, tr.book_id\n",
                "FROM BooksDB.dbo.books AS b\n",
                "RIGHT JOIN BooksDB.dbo.to_read AS tr\n",
                "ON b.best_book_id = tr.book_id;"
            ],
            "metadata": {
                "azdata_cell_guid": "8cf020b8-2a76-46a6-acff-97eb1acc7fed",
                "tags": [],
                "language": "sql"
            },
            "outputs": [
                {
                    "output_type": "display_data",
                    "data": {
                        "text/html": "(300 rows affected)"
                    },
                    "metadata": {}
                },
                {
                    "output_type": "display_data",
                    "data": {
                        "text/html": "Total execution time: 00:00:00.078"
                    },
                    "metadata": {}
                },
                {
                    "output_type": "execute_result",
                    "execution_count": 3,
                    "data": {
                        "application/vnd.dataresource+json": {
                            "schema": {
                                "fields": [
                                    {
                                        "name": "title"
                                    },
                                    {
                                        "name": "average_rating"
                                    },
                                    {
                                        "name": "books_count"
                                    },
                                    {
                                        "name": "user_id"
                                    },
                                    {
                                        "name": "book_id"
                                    }
                                ]
                            },
                            "data": [
                                {
                                    "0": "Children of Dune (Dune Chronicles #3)",
                                    "1": "3.9",
                                    "2": "116",
                                    "3": "1",
                                    "4": "112"
                                },
                                {
                                    "0": "NULL",
                                    "1": "NULL",
                                    "2": "NULL",
                                    "3": "1",
                                    "4": "235"
                                },
                                {
                                    "0": "NULL",
                                    "1": "NULL",
                                    "2": "NULL",
                                    "3": "1",
                                    "4": "533"
                                },
                                {
                                    "0": "NULL",
                                    "1": "NULL",
                                    "2": "NULL",
                                    "3": "1",
                                    "4": "1198"
                                },
                                {
                                    "0": "NULL",
                                    "1": "NULL",
                                    "2": "NULL",
                                    "3": "1",
                                    "4": "1874"
                                },
                                {
                                    "0": "NULL",
                                    "1": "NULL",
                                    "2": "NULL",
                                    "3": "1",
                                    "4": "2058"
                                },
                                {
                                    "0": "NULL",
                                    "1": "NULL",
                                    "2": "NULL",
                                    "3": "1",
                                    "4": "3334"
                                },
                                {
                                    "0": "NULL",
                                    "1": "NULL",
                                    "2": "NULL",
                                    "3": "2",
                                    "4": "4"
                                },
                                {
                                    "0": "NULL",
                                    "1": "NULL",
                                    "2": "NULL",
                                    "3": "2",
                                    "4": "11"
                                },
                                {
                                    "0": "The Ultimate Hitchhiker's Guide to the Galaxy",
                                    "1": "4.37",
                                    "2": "32",
                                    "3": "2",
                                    "4": "13"
                                },
                                {
                                    "0": "NULL",
                                    "1": "NULL",
                                    "2": "NULL",
                                    "3": "2",
                                    "4": "16"
                                },
                                {
                                    "0": "NULL",
                                    "1": "NULL",
                                    "2": "NULL",
                                    "3": "2",
                                    "4": "92"
                                },
                                {
                                    "0": "Dune Messiah (Dune Chronicles #2)",
                                    "1": "3.86",
                                    "2": "140",
                                    "3": "2",
                                    "4": "106"
                                },
                                {
                                    "0": "NULL",
                                    "1": "NULL",
                                    "2": "NULL",
                                    "3": "2",
                                    "4": "113"
                                },
                                {
                                    "0": "NULL",
                                    "1": "NULL",
                                    "2": "NULL",
                                    "3": "2",
                                    "4": "233"
                                },
                                {
                                    "0": "NULL",
                                    "1": "NULL",
                                    "2": "NULL",
                                    "3": "2",
                                    "4": "247"
                                },
                                {
                                    "0": "NULL",
                                    "1": "NULL",
                                    "2": "NULL",
                                    "3": "2",
                                    "4": "380"
                                },
                                {
                                    "0": "NULL",
                                    "1": "NULL",
                                    "2": "NULL",
                                    "3": "2",
                                    "4": "408"
                                },
                                {
                                    "0": "NULL",
                                    "1": "NULL",
                                    "2": "NULL",
                                    "3": "2",
                                    "4": "439"
                                },
                                {
                                    "0": "NULL",
                                    "1": "NULL",
                                    "2": "NULL",
                                    "3": "2",
                                    "4": "479"
                                },
                                {
                                    "0": "NULL",
                                    "1": "NULL",
                                    "2": "NULL",
                                    "3": "2",
                                    "4": "516"
                                },
                                {
                                    "0": "NULL",
                                    "1": "NULL",
                                    "2": "NULL",
                                    "3": "2",
                                    "4": "619"
                                },
                                {
                                    "0": "NULL",
                                    "1": "NULL",
                                    "2": "NULL",
                                    "3": "2",
                                    "4": "1069"
                                },
                                {
                                    "0": "The Iliad",
                                    "1": "3.83",
                                    "2": "1726",
                                    "3": "2",
                                    "4": "1371"
                                },
                                {
                                    "0": "NULL",
                                    "1": "NULL",
                                    "2": "NULL",
                                    "3": "2",
                                    "4": "1384"
                                },
                                {
                                    "0": "NULL",
                                    "1": "NULL",
                                    "2": "NULL",
                                    "3": "2",
                                    "4": "1597"
                                },
                                {
                                    "0": "NULL",
                                    "1": "NULL",
                                    "2": "NULL",
                                    "3": "2",
                                    "4": "1926"
                                },
                                {
                                    "0": "NULL",
                                    "1": "NULL",
                                    "2": "NULL",
                                    "3": "2",
                                    "4": "1967"
                                },
                                {
                                    "0": "NULL",
                                    "1": "NULL",
                                    "2": "NULL",
                                    "3": "2",
                                    "4": "1969"
                                },
                                {
                                    "0": "NULL",
                                    "1": "NULL",
                                    "2": "NULL",
                                    "3": "2",
                                    "4": "2220"
                                },
                                {
                                    "0": "NULL",
                                    "1": "NULL",
                                    "2": "NULL",
                                    "3": "2",
                                    "4": "2388"
                                },
                                {
                                    "0": "NULL",
                                    "1": "NULL",
                                    "2": "NULL",
                                    "3": "2",
                                    "4": "3222"
                                },
                                {
                                    "0": "NULL",
                                    "1": "NULL",
                                    "2": "NULL",
                                    "3": "2",
                                    "4": "3227"
                                },
                                {
                                    "0": "NULL",
                                    "1": "NULL",
                                    "2": "NULL",
                                    "3": "2",
                                    "4": "3733"
                                },
                                {
                                    "0": "NULL",
                                    "1": "NULL",
                                    "2": "NULL",
                                    "3": "2",
                                    "4": "5418"
                                },
                                {
                                    "0": "NULL",
                                    "1": "NULL",
                                    "2": "NULL",
                                    "3": "2",
                                    "4": "6937"
                                },
                                {
                                    "0": "NULL",
                                    "1": "NULL",
                                    "2": "NULL",
                                    "3": "2",
                                    "4": "7146"
                                },
                                {
                                    "0": "NULL",
                                    "1": "NULL",
                                    "2": "NULL",
                                    "3": "2",
                                    "4": "7873"
                                },
                                {
                                    "0": "NULL",
                                    "1": "NULL",
                                    "2": "NULL",
                                    "3": "2",
                                    "4": "8417"
                                },
                                {
                                    "0": "Harry Potter Collection (Harry Potter, #1-6)",
                                    "1": "4.73",
                                    "2": "6",
                                    "3": "3",
                                    "4": "10"
                                },
                                {
                                    "0": "NULL",
                                    "1": "NULL",
                                    "2": "NULL",
                                    "3": "3",
                                    "4": "66"
                                },
                                {
                                    "0": "NULL",
                                    "1": "NULL",
                                    "2": "NULL",
                                    "3": "3",
                                    "4": "233"
                                },
                                {
                                    "0": "NULL",
                                    "1": "NULL",
                                    "2": "NULL",
                                    "3": "3",
                                    "4": "726"
                                },
                                {
                                    "0": "NULL",
                                    "1": "NULL",
                                    "2": "NULL",
                                    "3": "3",
                                    "4": "932"
                                },
                                {
                                    "0": "NULL",
                                    "1": "NULL",
                                    "2": "NULL",
                                    "3": "3",
                                    "4": "1146"
                                },
                                {
                                    "0": "NULL",
                                    "1": "NULL",
                                    "2": "NULL",
                                    "3": "3",
                                    "4": "2439"
                                },
                                {
                                    "0": "NULL",
                                    "1": "NULL",
                                    "2": "NULL",
                                    "3": "3",
                                    "4": "3566"
                                },
                                {
                                    "0": "NULL",
                                    "1": "NULL",
                                    "2": "NULL",
                                    "3": "3",
                                    "4": "4582"
                                },
                                {
                                    "0": "NULL",
                                    "1": "NULL",
                                    "2": "NULL",
                                    "3": "3",
                                    "4": "5448"
                                },
                                {
                                    "0": "NULL",
                                    "1": "NULL",
                                    "2": "NULL",
                                    "3": "3",
                                    "4": "5765"
                                },
                                {
                                    "0": "NULL",
                                    "1": "NULL",
                                    "2": "NULL",
                                    "3": "3",
                                    "4": "6274"
                                },
                                {
                                    "0": "NULL",
                                    "1": "NULL",
                                    "2": "NULL",
                                    "3": "3",
                                    "4": "8403"
                                },
                                {
                                    "0": "NULL",
                                    "1": "NULL",
                                    "2": "NULL",
                                    "3": "5",
                                    "4": "31"
                                },
                                {
                                    "0": "The Virtue of Selfishness: A New Concept of Egoism",
                                    "1": "3.47",
                                    "2": "53",
                                    "3": "5",
                                    "4": "665"
                                },
                                {
                                    "0": "NULL",
                                    "1": "NULL",
                                    "2": "NULL",
                                    "3": "5",
                                    "4": "3074"
                                },
                                {
                                    "0": "Sherlock Holmes: The Complete Novels and Stories, Volume I",
                                    "1": "4.45",
                                    "2": "13",
                                    "3": "5",
                                    "4": "3581"
                                },
                                {
                                    "0": "NULL",
                                    "1": "NULL",
                                    "2": "NULL",
                                    "3": "6",
                                    "4": "64"
                                },
                                {
                                    "0": "NULL",
                                    "1": "NULL",
                                    "2": "NULL",
                                    "3": "6",
                                    "4": "459"
                                },
                                {
                                    "0": "NULL",
                                    "1": "NULL",
                                    "2": "NULL",
                                    "3": "6",
                                    "4": "619"
                                },
                                {
                                    "0": "NULL",
                                    "1": "NULL",
                                    "2": "NULL",
                                    "3": "6",
                                    "4": "649"
                                },
                                {
                                    "0": "NULL",
                                    "1": "NULL",
                                    "2": "NULL",
                                    "3": "6",
                                    "4": "687"
                                },
                                {
                                    "0": "NULL",
                                    "1": "NULL",
                                    "2": "NULL",
                                    "3": "6",
                                    "4": "874"
                                },
                                {
                                    "0": "The War of Art: Break Through the Blocks & Win Your Inner Creative Battles",
                                    "1": "4.07",
                                    "2": "29",
                                    "3": "6",
                                    "4": "1319"
                                },
                                {
                                    "0": "NULL",
                                    "1": "NULL",
                                    "2": "NULL",
                                    "3": "6",
                                    "4": "1912"
                                },
                                {
                                    "0": "NULL",
                                    "1": "NULL",
                                    "2": "NULL",
                                    "3": "6",
                                    "4": "5269"
                                },
                                {
                                    "0": "NULL",
                                    "1": "NULL",
                                    "2": "NULL",
                                    "3": "6",
                                    "4": "5537"
                                },
                                {
                                    "0": "NULL",
                                    "1": "NULL",
                                    "2": "NULL",
                                    "3": "6",
                                    "4": "5820"
                                },
                                {
                                    "0": "NULL",
                                    "1": "NULL",
                                    "2": "NULL",
                                    "3": "6",
                                    "4": "6220"
                                },
                                {
                                    "0": "NULL",
                                    "1": "NULL",
                                    "2": "NULL",
                                    "3": "6",
                                    "4": "7480"
                                },
                                {
                                    "0": "Harry Potter Collection (Harry Potter, #1-6)",
                                    "1": "4.73",
                                    "2": "6",
                                    "3": "7",
                                    "4": "10"
                                },
                                {
                                    "0": "NULL",
                                    "1": "NULL",
                                    "2": "NULL",
                                    "3": "7",
                                    "4": "215"
                                },
                                {
                                    "0": "NULL",
                                    "1": "NULL",
                                    "2": "NULL",
                                    "3": "7",
                                    "4": "225"
                                },
                                {
                                    "0": "NULL",
                                    "1": "NULL",
                                    "2": "NULL",
                                    "3": "7",
                                    "4": "233"
                                },
                                {
                                    "0": "NULL",
                                    "1": "NULL",
                                    "2": "NULL",
                                    "3": "7",
                                    "4": "1322"
                                },
                                {
                                    "0": "NULL",
                                    "1": "NULL",
                                    "2": "NULL",
                                    "3": "7",
                                    "4": "3552"
                                },
                                {
                                    "0": "NULL",
                                    "1": "NULL",
                                    "2": "NULL",
                                    "3": "7",
                                    "4": "3720"
                                },
                                {
                                    "0": "NULL",
                                    "1": "NULL",
                                    "2": "NULL",
                                    "3": "7",
                                    "4": "4468"
                                },
                                {
                                    "0": "NULL",
                                    "1": "NULL",
                                    "2": "NULL",
                                    "3": "8",
                                    "4": "19"
                                },
                                {
                                    "0": "NULL",
                                    "1": "NULL",
                                    "2": "NULL",
                                    "3": "8",
                                    "4": "498"
                                },
                                {
                                    "0": "NULL",
                                    "1": "NULL",
                                    "2": "NULL",
                                    "3": "8",
                                    "4": "1357"
                                },
                                {
                                    "0": "NULL",
                                    "1": "NULL",
                                    "2": "NULL",
                                    "3": "8",
                                    "4": "2177"
                                },
                                {
                                    "0": "NULL",
                                    "1": "NULL",
                                    "2": "NULL",
                                    "3": "8",
                                    "4": "3930"
                                },
                                {
                                    "0": "The Pilgrimage",
                                    "1": "3.64",
                                    "2": "171",
                                    "3": "8",
                                    "4": "4004"
                                },
                                {
                                    "0": "NULL",
                                    "1": "NULL",
                                    "2": "NULL",
                                    "3": "8",
                                    "4": "8792"
                                },
                                {
                                    "0": "NULL",
                                    "1": "NULL",
                                    "2": "NULL",
                                    "3": "8",
                                    "4": "9304"
                                },
                                {
                                    "0": "Harry Potter Boxed Set, Books 1-5 (Harry Potter, #1-5)",
                                    "1": "4.77",
                                    "2": "11",
                                    "3": "9",
                                    "4": "8"
                                },
                                {
                                    "0": "Children of Dune (Dune Chronicles #3)",
                                    "1": "3.9",
                                    "2": "116",
                                    "3": "9",
                                    "4": "112"
                                },
                                {
                                    "0": "NULL",
                                    "1": "NULL",
                                    "2": "NULL",
                                    "3": "9",
                                    "4": "139"
                                },
                                {
                                    "0": "NULL",
                                    "1": "NULL",
                                    "2": "NULL",
                                    "3": "9",
                                    "4": "230"
                                },
                                {
                                    "0": "NULL",
                                    "1": "NULL",
                                    "2": "NULL",
                                    "3": "9",
                                    "4": "233"
                                },
                                {
                                    "0": "NULL",
                                    "1": "NULL",
                                    "2": "NULL",
                                    "3": "9",
                                    "4": "473"
                                },
                                {
                                    "0": "NULL",
                                    "1": "NULL",
                                    "2": "NULL",
                                    "3": "9",
                                    "4": "638"
                                },
                                {
                                    "0": "NULL",
                                    "1": "NULL",
                                    "2": "NULL",
                                    "3": "9",
                                    "4": "653"
                                },
                                {
                                    "0": "NULL",
                                    "1": "NULL",
                                    "2": "NULL",
                                    "3": "9",
                                    "4": "672"
                                },
                                {
                                    "0": "NULL",
                                    "1": "NULL",
                                    "2": "NULL",
                                    "3": "9",
                                    "4": "701"
                                },
                                {
                                    "0": "NULL",
                                    "1": "NULL",
                                    "2": "NULL",
                                    "3": "9",
                                    "4": "736"
                                },
                                {
                                    "0": "NULL",
                                    "1": "NULL",
                                    "2": "NULL",
                                    "3": "9",
                                    "4": "883"
                                },
                                {
                                    "0": "NULL",
                                    "1": "NULL",
                                    "2": "NULL",
                                    "3": "9",
                                    "4": "895"
                                },
                                {
                                    "0": "NULL",
                                    "1": "NULL",
                                    "2": "NULL",
                                    "3": "9",
                                    "4": "1467"
                                },
                                {
                                    "0": "NULL",
                                    "1": "NULL",
                                    "2": "NULL",
                                    "3": "9",
                                    "4": "1582"
                                },
                                {
                                    "0": "NULL",
                                    "1": "NULL",
                                    "2": "NULL",
                                    "3": "9",
                                    "4": "1873"
                                },
                                {
                                    "0": "NULL",
                                    "1": "NULL",
                                    "2": "NULL",
                                    "3": "9",
                                    "4": "2516"
                                },
                                {
                                    "0": "NULL",
                                    "1": "NULL",
                                    "2": "NULL",
                                    "3": "9",
                                    "4": "2630"
                                },
                                {
                                    "0": "NULL",
                                    "1": "NULL",
                                    "2": "NULL",
                                    "3": "9",
                                    "4": "3210"
                                },
                                {
                                    "0": "Icy Sparks",
                                    "1": "3.68",
                                    "2": "27",
                                    "3": "9",
                                    "4": "3476"
                                },
                                {
                                    "0": "NULL",
                                    "1": "NULL",
                                    "2": "NULL",
                                    "3": "9",
                                    "4": "3560"
                                },
                                {
                                    "0": "NULL",
                                    "1": "NULL",
                                    "2": "NULL",
                                    "3": "9",
                                    "4": "3650"
                                },
                                {
                                    "0": "NULL",
                                    "1": "NULL",
                                    "2": "NULL",
                                    "3": "9",
                                    "4": "5286"
                                },
                                {
                                    "0": "NULL",
                                    "1": "NULL",
                                    "2": "NULL",
                                    "3": "9",
                                    "4": "6636"
                                },
                                {
                                    "0": "Harry Potter and the Goblet of Fire (Harry Potter, #4)",
                                    "1": "4.53",
                                    "2": "332",
                                    "3": "10",
                                    "4": "6"
                                },
                                {
                                    "0": "NULL",
                                    "1": "NULL",
                                    "2": "NULL",
                                    "3": "10",
                                    "4": "385"
                                },
                                {
                                    "0": "Atlas Shrugged",
                                    "1": "3.68",
                                    "2": "147",
                                    "3": "10",
                                    "4": "662"
                                },
                                {
                                    "0": "NULL",
                                    "1": "NULL",
                                    "2": "NULL",
                                    "3": "10",
                                    "4": "896"
                                },
                                {
                                    "0": "NULL",
                                    "1": "NULL",
                                    "2": "NULL",
                                    "3": "10",
                                    "4": "1076"
                                },
                                {
                                    "0": "NULL",
                                    "1": "NULL",
                                    "2": "NULL",
                                    "3": "10",
                                    "4": "1082"
                                },
                                {
                                    "0": "NULL",
                                    "1": "NULL",
                                    "2": "NULL",
                                    "3": "10",
                                    "4": "1220"
                                },
                                {
                                    "0": "NULL",
                                    "1": "NULL",
                                    "2": "NULL",
                                    "3": "10",
                                    "4": "1281"
                                },
                                {
                                    "0": "NULL",
                                    "1": "NULL",
                                    "2": "NULL",
                                    "3": "10",
                                    "4": "1439"
                                },
                                {
                                    "0": "NULL",
                                    "1": "NULL",
                                    "2": "NULL",
                                    "3": "10",
                                    "4": "1851"
                                },
                                {
                                    "0": "NULL",
                                    "1": "NULL",
                                    "2": "NULL",
                                    "3": "10",
                                    "4": "1920"
                                },
                                {
                                    "0": "NULL",
                                    "1": "NULL",
                                    "2": "NULL",
                                    "3": "10",
                                    "4": "2441"
                                },
                                {
                                    "0": "NULL",
                                    "1": "NULL",
                                    "2": "NULL",
                                    "3": "10",
                                    "4": "2570"
                                },
                                {
                                    "0": "NULL",
                                    "1": "NULL",
                                    "2": "NULL",
                                    "3": "10",
                                    "4": "2616"
                                },
                                {
                                    "0": "NULL",
                                    "1": "NULL",
                                    "2": "NULL",
                                    "3": "10",
                                    "4": "3059"
                                },
                                {
                                    "0": "NULL",
                                    "1": "NULL",
                                    "2": "NULL",
                                    "3": "10",
                                    "4": "3545"
                                },
                                {
                                    "0": "NULL",
                                    "1": "NULL",
                                    "2": "NULL",
                                    "3": "10",
                                    "4": "3961"
                                },
                                {
                                    "0": "NULL",
                                    "1": "NULL",
                                    "2": "NULL",
                                    "3": "10",
                                    "4": "4369"
                                },
                                {
                                    "0": "NULL",
                                    "1": "NULL",
                                    "2": "NULL",
                                    "3": "10",
                                    "4": "4510"
                                },
                                {
                                    "0": "NULL",
                                    "1": "NULL",
                                    "2": "NULL",
                                    "3": "10",
                                    "4": "5104"
                                },
                                {
                                    "0": "NULL",
                                    "1": "NULL",
                                    "2": "NULL",
                                    "3": "10",
                                    "4": "5254"
                                },
                                {
                                    "0": "NULL",
                                    "1": "NULL",
                                    "2": "NULL",
                                    "3": "10",
                                    "4": "5556"
                                },
                                {
                                    "0": "NULL",
                                    "1": "NULL",
                                    "2": "NULL",
                                    "3": "10",
                                    "4": "6114"
                                },
                                {
                                    "0": "NULL",
                                    "1": "NULL",
                                    "2": "NULL",
                                    "3": "10",
                                    "4": "6917"
                                },
                                {
                                    "0": "NULL",
                                    "1": "NULL",
                                    "2": "NULL",
                                    "3": "10",
                                    "4": "7545"
                                },
                                {
                                    "0": "NULL",
                                    "1": "NULL",
                                    "2": "NULL",
                                    "3": "10",
                                    "4": "7842"
                                },
                                {
                                    "0": "NULL",
                                    "1": "NULL",
                                    "2": "NULL",
                                    "3": "11",
                                    "4": "3643"
                                },
                                {
                                    "0": "Harry Potter and the Half-Blood Prince (Harry Potter, #6)",
                                    "1": "4.54",
                                    "2": "275",
                                    "3": "12",
                                    "4": "1"
                                },
                                {
                                    "0": "NULL",
                                    "1": "NULL",
                                    "2": "NULL",
                                    "3": "12",
                                    "4": "124"
                                },
                                {
                                    "0": "NULL",
                                    "1": "NULL",
                                    "2": "NULL",
                                    "3": "12",
                                    "4": "1471"
                                },
                                {
                                    "0": "NULL",
                                    "1": "NULL",
                                    "2": "NULL",
                                    "3": "12",
                                    "4": "2893"
                                },
                                {
                                    "0": "NULL",
                                    "1": "NULL",
                                    "2": "NULL",
                                    "3": "13",
                                    "4": "81"
                                },
                                {
                                    "0": "NULL",
                                    "1": "NULL",
                                    "2": "NULL",
                                    "3": "13",
                                    "4": "277"
                                },
                                {
                                    "0": "NULL",
                                    "1": "NULL",
                                    "2": "NULL",
                                    "3": "13",
                                    "4": "318"
                                },
                                {
                                    "0": "NULL",
                                    "1": "NULL",
                                    "2": "NULL",
                                    "3": "13",
                                    "4": "430"
                                },
                                {
                                    "0": "NULL",
                                    "1": "NULL",
                                    "2": "NULL",
                                    "3": "13",
                                    "4": "437"
                                },
                                {
                                    "0": "NULL",
                                    "1": "NULL",
                                    "2": "NULL",
                                    "3": "13",
                                    "4": "551"
                                },
                                {
                                    "0": "NULL",
                                    "1": "NULL",
                                    "2": "NULL",
                                    "3": "13",
                                    "4": "560"
                                },
                                {
                                    "0": "NULL",
                                    "1": "NULL",
                                    "2": "NULL",
                                    "3": "13",
                                    "4": "610"
                                },
                                {
                                    "0": "NULL",
                                    "1": "NULL",
                                    "2": "NULL",
                                    "3": "13",
                                    "4": "678"
                                },
                                {
                                    "0": "NULL",
                                    "1": "NULL",
                                    "2": "NULL",
                                    "3": "13",
                                    "4": "979"
                                },
                                {
                                    "0": "NULL",
                                    "1": "NULL",
                                    "2": "NULL",
                                    "3": "13",
                                    "4": "1082"
                                },
                                {
                                    "0": "NULL",
                                    "1": "NULL",
                                    "2": "NULL",
                                    "3": "13",
                                    "4": "1464"
                                },
                                {
                                    "0": "NULL",
                                    "1": "NULL",
                                    "2": "NULL",
                                    "3": "13",
                                    "4": "1577"
                                },
                                {
                                    "0": "NULL",
                                    "1": "NULL",
                                    "2": "NULL",
                                    "3": "13",
                                    "4": "2018"
                                },
                                {
                                    "0": "NULL",
                                    "1": "NULL",
                                    "2": "NULL",
                                    "3": "13",
                                    "4": "2418"
                                },
                                {
                                    "0": "NULL",
                                    "1": "NULL",
                                    "2": "NULL",
                                    "3": "13",
                                    "4": "3257"
                                },
                                {
                                    "0": "NULL",
                                    "1": "NULL",
                                    "2": "NULL",
                                    "3": "13",
                                    "4": "4212"
                                },
                                {
                                    "0": "NULL",
                                    "1": "NULL",
                                    "2": "NULL",
                                    "3": "13",
                                    "4": "4635"
                                },
                                {
                                    "0": "NULL",
                                    "1": "NULL",
                                    "2": "NULL",
                                    "3": "13",
                                    "4": "4704"
                                },
                                {
                                    "0": "NULL",
                                    "1": "NULL",
                                    "2": "NULL",
                                    "3": "13",
                                    "4": "4734"
                                },
                                {
                                    "0": "NULL",
                                    "1": "NULL",
                                    "2": "NULL",
                                    "3": "13",
                                    "4": "4841"
                                },
                                {
                                    "0": "NULL",
                                    "1": "NULL",
                                    "2": "NULL",
                                    "3": "13",
                                    "4": "4848"
                                },
                                {
                                    "0": "NULL",
                                    "1": "NULL",
                                    "2": "NULL",
                                    "3": "13",
                                    "4": "4856"
                                },
                                {
                                    "0": "NULL",
                                    "1": "NULL",
                                    "2": "NULL",
                                    "3": "13",
                                    "4": "4928"
                                },
                                {
                                    "0": "NULL",
                                    "1": "NULL",
                                    "2": "NULL",
                                    "3": "13",
                                    "4": "6114"
                                },
                                {
                                    "0": "NULL",
                                    "1": "NULL",
                                    "2": "NULL",
                                    "3": "13",
                                    "4": "6793"
                                },
                                {
                                    "0": "NULL",
                                    "1": "NULL",
                                    "2": "NULL",
                                    "3": "13",
                                    "4": "6962"
                                },
                                {
                                    "0": "NULL",
                                    "1": "NULL",
                                    "2": "NULL",
                                    "3": "13",
                                    "4": "8717"
                                },
                                {
                                    "0": "NULL",
                                    "1": "NULL",
                                    "2": "NULL",
                                    "3": "14",
                                    "4": "493"
                                },
                                {
                                    "0": "NULL",
                                    "1": "NULL",
                                    "2": "NULL",
                                    "3": "14",
                                    "4": "1179"
                                },
                                {
                                    "0": "NULL",
                                    "1": "NULL",
                                    "2": "NULL",
                                    "3": "14",
                                    "4": "2693"
                                },
                                {
                                    "0": "Sherlock Holmes: The Complete Novels and Stories, Volume I",
                                    "1": "4.45",
                                    "2": "13",
                                    "3": "14",
                                    "4": "3581"
                                },
                                {
                                    "0": "NULL",
                                    "1": "NULL",
                                    "2": "NULL",
                                    "3": "14",
                                    "4": "3683"
                                },
                                {
                                    "0": "NULL",
                                    "1": "NULL",
                                    "2": "NULL",
                                    "3": "14",
                                    "4": "3953"
                                },
                                {
                                    "0": "NULL",
                                    "1": "NULL",
                                    "2": "NULL",
                                    "3": "14",
                                    "4": "4220"
                                },
                                {
                                    "0": "NULL",
                                    "1": "NULL",
                                    "2": "NULL",
                                    "3": "14",
                                    "4": "5076"
                                },
                                {
                                    "0": "NULL",
                                    "1": "NULL",
                                    "2": "NULL",
                                    "3": "14",
                                    "4": "5537"
                                },
                                {
                                    "0": "NULL",
                                    "1": "NULL",
                                    "2": "NULL",
                                    "3": "14",
                                    "4": "7777"
                                },
                                {
                                    "0": "NULL",
                                    "1": "NULL",
                                    "2": "NULL",
                                    "3": "15",
                                    "4": "191"
                                },
                                {
                                    "0": "The Lover",
                                    "1": "3.76",
                                    "2": "148",
                                    "3": "15",
                                    "4": "275"
                                },
                                {
                                    "0": "NULL",
                                    "1": "NULL",
                                    "2": "NULL",
                                    "3": "15",
                                    "4": "398"
                                },
                                {
                                    "0": "NULL",
                                    "1": "NULL",
                                    "2": "NULL",
                                    "3": "15",
                                    "4": "666"
                                },
                                {
                                    "0": "NULL",
                                    "1": "NULL",
                                    "2": "NULL",
                                    "3": "15",
                                    "4": "1491"
                                },
                                {
                                    "0": "NULL",
                                    "1": "NULL",
                                    "2": "NULL",
                                    "3": "15",
                                    "4": "5210"
                                },
                                {
                                    "0": "NULL",
                                    "1": "NULL",
                                    "2": "NULL",
                                    "3": "17",
                                    "4": "1344"
                                },
                                {
                                    "0": "The Good Soldier",
                                    "1": "3.72",
                                    "2": "362",
                                    "3": "20",
                                    "4": "7628"
                                },
                                {
                                    "0": "NULL",
                                    "1": "NULL",
                                    "2": "NULL",
                                    "3": "22",
                                    "4": "653"
                                },
                                {
                                    "0": "NULL",
                                    "1": "NULL",
                                    "2": "NULL",
                                    "3": "22",
                                    "4": "1403"
                                },
                                {
                                    "0": "NULL",
                                    "1": "NULL",
                                    "2": "NULL",
                                    "3": "22",
                                    "4": "1405"
                                },
                                {
                                    "0": "NULL",
                                    "1": "NULL",
                                    "2": "NULL",
                                    "3": "22",
                                    "4": "1645"
                                },
                                {
                                    "0": "NULL",
                                    "1": "NULL",
                                    "2": "NULL",
                                    "3": "22",
                                    "4": "2500"
                                },
                                {
                                    "0": "NULL",
                                    "1": "NULL",
                                    "2": "NULL",
                                    "3": "22",
                                    "4": "2691"
                                },
                                {
                                    "0": "NULL",
                                    "1": "NULL",
                                    "2": "NULL",
                                    "3": "22",
                                    "4": "4995"
                                },
                                {
                                    "0": "NULL",
                                    "1": "NULL",
                                    "2": "NULL",
                                    "3": "23",
                                    "4": "273"
                                },
                                {
                                    "0": "NULL",
                                    "1": "NULL",
                                    "2": "NULL",
                                    "3": "23",
                                    "4": "459"
                                },
                                {
                                    "0": "NULL",
                                    "1": "NULL",
                                    "2": "NULL",
                                    "3": "23",
                                    "4": "791"
                                },
                                {
                                    "0": "NULL",
                                    "1": "NULL",
                                    "2": "NULL",
                                    "3": "23",
                                    "4": "886"
                                },
                                {
                                    "0": "NULL",
                                    "1": "NULL",
                                    "2": "NULL",
                                    "3": "23",
                                    "4": "925"
                                },
                                {
                                    "0": "NULL",
                                    "1": "NULL",
                                    "2": "NULL",
                                    "3": "23",
                                    "4": "1198"
                                },
                                {
                                    "0": "NULL",
                                    "1": "NULL",
                                    "2": "NULL",
                                    "3": "23",
                                    "4": "1597"
                                },
                                {
                                    "0": "NULL",
                                    "1": "NULL",
                                    "2": "NULL",
                                    "3": "23",
                                    "4": "1688"
                                },
                                {
                                    "0": "NULL",
                                    "1": "NULL",
                                    "2": "NULL",
                                    "3": "23",
                                    "4": "2251"
                                },
                                {
                                    "0": "NULL",
                                    "1": "NULL",
                                    "2": "NULL",
                                    "3": "23",
                                    "4": "2350"
                                },
                                {
                                    "0": "NULL",
                                    "1": "NULL",
                                    "2": "NULL",
                                    "3": "23",
                                    "4": "2613"
                                },
                                {
                                    "0": "NULL",
                                    "1": "NULL",
                                    "2": "NULL",
                                    "3": "23",
                                    "4": "3312"
                                },
                                {
                                    "0": "NULL",
                                    "1": "NULL",
                                    "2": "NULL",
                                    "3": "23",
                                    "4": "3343"
                                },
                                {
                                    "0": "NULL",
                                    "1": "NULL",
                                    "2": "NULL",
                                    "3": "24",
                                    "4": "61"
                                },
                                {
                                    "0": "NULL",
                                    "1": "NULL",
                                    "2": "NULL",
                                    "3": "24",
                                    "4": "143"
                                },
                                {
                                    "0": "NULL",
                                    "1": "NULL",
                                    "2": "NULL",
                                    "3": "24",
                                    "4": "421"
                                },
                                {
                                    "0": "NULL",
                                    "1": "NULL",
                                    "2": "NULL",
                                    "3": "24",
                                    "4": "467"
                                },
                                {
                                    "0": "NULL",
                                    "1": "NULL",
                                    "2": "NULL",
                                    "3": "24",
                                    "4": "974"
                                },
                                {
                                    "0": "NULL",
                                    "1": "NULL",
                                    "2": "NULL",
                                    "3": "26",
                                    "4": "508"
                                },
                                {
                                    "0": "NULL",
                                    "1": "NULL",
                                    "2": "NULL",
                                    "3": "26",
                                    "4": "1796"
                                },
                                {
                                    "0": "NULL",
                                    "1": "NULL",
                                    "2": "NULL",
                                    "3": "26",
                                    "4": "2257"
                                },
                                {
                                    "0": "NULL",
                                    "1": "NULL",
                                    "2": "NULL",
                                    "3": "26",
                                    "4": "2314"
                                },
                                {
                                    "0": "NULL",
                                    "1": "NULL",
                                    "2": "NULL",
                                    "3": "26",
                                    "4": "2357"
                                },
                                {
                                    "0": "NULL",
                                    "1": "NULL",
                                    "2": "NULL",
                                    "3": "26",
                                    "4": "2738"
                                },
                                {
                                    "0": "NULL",
                                    "1": "NULL",
                                    "2": "NULL",
                                    "3": "26",
                                    "4": "2810"
                                },
                                {
                                    "0": "NULL",
                                    "1": "NULL",
                                    "2": "NULL",
                                    "3": "26",
                                    "4": "3207"
                                },
                                {
                                    "0": "The Thorn Birds",
                                    "1": "4.22",
                                    "2": "201",
                                    "3": "26",
                                    "4": "3412"
                                },
                                {
                                    "0": "The Complete Sherlock Holmes, Vol 2",
                                    "1": "4.46",
                                    "2": "117",
                                    "3": "26",
                                    "4": "3586"
                                },
                                {
                                    "0": "The Dark Tower (The Dark Tower, #7)",
                                    "1": "4.27",
                                    "2": "105",
                                    "3": "26",
                                    "4": "5091"
                                },
                                {
                                    "0": "NULL",
                                    "1": "NULL",
                                    "2": "NULL",
                                    "3": "26",
                                    "4": "5550"
                                },
                                {
                                    "0": "NULL",
                                    "1": "NULL",
                                    "2": "NULL",
                                    "3": "26",
                                    "4": "6877"
                                },
                                {
                                    "0": "NULL",
                                    "1": "NULL",
                                    "2": "NULL",
                                    "3": "26",
                                    "4": "7970"
                                },
                                {
                                    "0": "NULL",
                                    "1": "NULL",
                                    "2": "NULL",
                                    "3": "28",
                                    "4": "265"
                                },
                                {
                                    "0": "NULL",
                                    "1": "NULL",
                                    "2": "NULL",
                                    "3": "28",
                                    "4": "587"
                                },
                                {
                                    "0": "NULL",
                                    "1": "NULL",
                                    "2": "NULL",
                                    "3": "28",
                                    "4": "3543"
                                },
                                {
                                    "0": "NULL",
                                    "1": "NULL",
                                    "2": "NULL",
                                    "3": "28",
                                    "4": "5215"
                                },
                                {
                                    "0": "NULL",
                                    "1": "NULL",
                                    "2": "NULL",
                                    "3": "28",
                                    "4": "7496"
                                },
                                {
                                    "0": "NULL",
                                    "1": "NULL",
                                    "2": "NULL",
                                    "3": "28",
                                    "4": "8654"
                                },
                                {
                                    "0": "NULL",
                                    "1": "NULL",
                                    "2": "NULL",
                                    "3": "29",
                                    "4": "31"
                                },
                                {
                                    "0": "NULL",
                                    "1": "NULL",
                                    "2": "NULL",
                                    "3": "29",
                                    "4": "32"
                                },
                                {
                                    "0": "The Lord of the Rings: Weapons and Warfare",
                                    "1": "4.53",
                                    "2": "12",
                                    "3": "29",
                                    "4": "36"
                                },
                                {
                                    "0": "NULL",
                                    "1": "NULL",
                                    "2": "NULL",
                                    "3": "29",
                                    "4": "45"
                                },
                                {
                                    "0": "NULL",
                                    "1": "NULL",
                                    "2": "NULL",
                                    "3": "29",
                                    "4": "65"
                                },
                                {
                                    "0": "NULL",
                                    "1": "NULL",
                                    "2": "NULL",
                                    "3": "29",
                                    "4": "87"
                                },
                                {
                                    "0": "NULL",
                                    "1": "NULL",
                                    "2": "NULL",
                                    "3": "29",
                                    "4": "115"
                                },
                                {
                                    "0": "NULL",
                                    "1": "NULL",
                                    "2": "NULL",
                                    "3": "29",
                                    "4": "121"
                                },
                                {
                                    "0": "NULL",
                                    "1": "NULL",
                                    "2": "NULL",
                                    "3": "29",
                                    "4": "131"
                                },
                                {
                                    "0": "NULL",
                                    "1": "NULL",
                                    "2": "NULL",
                                    "3": "29",
                                    "4": "178"
                                },
                                {
                                    "0": "NULL",
                                    "1": "NULL",
                                    "2": "NULL",
                                    "3": "29",
                                    "4": "256"
                                },
                                {
                                    "0": "NULL",
                                    "1": "NULL",
                                    "2": "NULL",
                                    "3": "29",
                                    "4": "323"
                                },
                                {
                                    "0": "Slouching Towards Bethlehem",
                                    "1": "4.24",
                                    "2": "34",
                                    "3": "29",
                                    "4": "424"
                                },
                                {
                                    "0": "NULL",
                                    "1": "NULL",
                                    "2": "NULL",
                                    "3": "29",
                                    "4": "467"
                                },
                                {
                                    "0": "NULL",
                                    "1": "NULL",
                                    "2": "NULL",
                                    "3": "29",
                                    "4": "550"
                                },
                                {
                                    "0": "NULL",
                                    "1": "NULL",
                                    "2": "NULL",
                                    "3": "29",
                                    "4": "618"
                                },
                                {
                                    "0": "Atlas Shrugged",
                                    "1": "3.68",
                                    "2": "147",
                                    "3": "29",
                                    "4": "662"
                                },
                                {
                                    "0": "NULL",
                                    "1": "NULL",
                                    "2": "NULL",
                                    "3": "29",
                                    "4": "709"
                                },
                                {
                                    "0": "NULL",
                                    "1": "NULL",
                                    "2": "NULL",
                                    "3": "29",
                                    "4": "730"
                                },
                                {
                                    "0": "NULL",
                                    "1": "NULL",
                                    "2": "NULL",
                                    "3": "29",
                                    "4": "771"
                                },
                                {
                                    "0": "NULL",
                                    "1": "NULL",
                                    "2": "NULL",
                                    "3": "29",
                                    "4": "809"
                                },
                                {
                                    "0": "NULL",
                                    "1": "NULL",
                                    "2": "NULL",
                                    "3": "29",
                                    "4": "934"
                                },
                                {
                                    "0": "NULL",
                                    "1": "NULL",
                                    "2": "NULL",
                                    "3": "29",
                                    "4": "1084"
                                },
                                {
                                    "0": "NULL",
                                    "1": "NULL",
                                    "2": "NULL",
                                    "3": "29",
                                    "4": "1364"
                                },
                                {
                                    "0": "NULL",
                                    "1": "NULL",
                                    "2": "NULL",
                                    "3": "29",
                                    "4": "1642"
                                },
                                {
                                    "0": "NULL",
                                    "1": "NULL",
                                    "2": "NULL",
                                    "3": "29",
                                    "4": "1695"
                                },
                                {
                                    "0": "NULL",
                                    "1": "NULL",
                                    "2": "NULL",
                                    "3": "29",
                                    "4": "2259"
                                },
                                {
                                    "0": "NULL",
                                    "1": "NULL",
                                    "2": "NULL",
                                    "3": "29",
                                    "4": "2284"
                                },
                                {
                                    "0": "NULL",
                                    "1": "NULL",
                                    "2": "NULL",
                                    "3": "29",
                                    "4": "2304"
                                },
                                {
                                    "0": "NULL",
                                    "1": "NULL",
                                    "2": "NULL",
                                    "3": "29",
                                    "4": "2967"
                                },
                                {
                                    "0": "NULL",
                                    "1": "NULL",
                                    "2": "NULL",
                                    "3": "29",
                                    "4": "3508"
                                },
                                {
                                    "0": "NULL",
                                    "1": "NULL",
                                    "2": "NULL",
                                    "3": "29",
                                    "4": "4359"
                                },
                                {
                                    "0": "NULL",
                                    "1": "NULL",
                                    "2": "NULL",
                                    "3": "29",
                                    "4": "4394"
                                },
                                {
                                    "0": "NULL",
                                    "1": "NULL",
                                    "2": "NULL",
                                    "3": "29",
                                    "4": "4475"
                                },
                                {
                                    "0": "NULL",
                                    "1": "NULL",
                                    "2": "NULL",
                                    "3": "29",
                                    "4": "4629"
                                },
                                {
                                    "0": "NULL",
                                    "1": "NULL",
                                    "2": "NULL",
                                    "3": "29",
                                    "4": "5090"
                                },
                                {
                                    "0": "NULL",
                                    "1": "NULL",
                                    "2": "NULL",
                                    "3": "29",
                                    "4": "5596"
                                },
                                {
                                    "0": "NULL",
                                    "1": "NULL",
                                    "2": "NULL",
                                    "3": "29",
                                    "4": "5851"
                                },
                                {
                                    "0": "NULL",
                                    "1": "NULL",
                                    "2": "NULL",
                                    "3": "29",
                                    "4": "6104"
                                },
                                {
                                    "0": "NULL",
                                    "1": "NULL",
                                    "2": "NULL",
                                    "3": "30",
                                    "4": "47"
                                },
                                {
                                    "0": "The Known World",
                                    "1": "3.82",
                                    "2": "42",
                                    "3": "30",
                                    "4": "67"
                                },
                                {
                                    "0": "NULL",
                                    "1": "NULL",
                                    "2": "NULL",
                                    "3": "30",
                                    "4": "82"
                                },
                                {
                                    "0": "NULL",
                                    "1": "NULL",
                                    "2": "NULL",
                                    "3": "30",
                                    "4": "121"
                                },
                                {
                                    "0": "NULL",
                                    "1": "NULL",
                                    "2": "NULL",
                                    "3": "30",
                                    "4": "177"
                                },
                                {
                                    "0": "Tropic of Cancer",
                                    "1": "3.71",
                                    "2": "205",
                                    "3": "30",
                                    "4": "249"
                                },
                                {
                                    "0": "NULL",
                                    "1": "NULL",
                                    "2": "NULL",
                                    "3": "30",
                                    "4": "297"
                                },
                                {
                                    "0": "NULL",
                                    "1": "NULL",
                                    "2": "NULL",
                                    "3": "30",
                                    "4": "407"
                                },
                                {
                                    "0": "NULL",
                                    "1": "NULL",
                                    "2": "NULL",
                                    "3": "30",
                                    "4": "426"
                                },
                                {
                                    "0": "NULL",
                                    "1": "NULL",
                                    "2": "NULL",
                                    "3": "30",
                                    "4": "430"
                                },
                                {
                                    "0": "NULL",
                                    "1": "NULL",
                                    "2": "NULL",
                                    "3": "30",
                                    "4": "442"
                                },
                                {
                                    "0": "NULL",
                                    "1": "NULL",
                                    "2": "NULL",
                                    "3": "30",
                                    "4": "516"
                                },
                                {
                                    "0": "NULL",
                                    "1": "NULL",
                                    "2": "NULL",
                                    "3": "30",
                                    "4": "658"
                                },
                                {
                                    "0": "NULL",
                                    "1": "NULL",
                                    "2": "NULL",
                                    "3": "30",
                                    "4": "895"
                                },
                                {
                                    "0": "NULL",
                                    "1": "NULL",
                                    "2": "NULL",
                                    "3": "30",
                                    "4": "1039"
                                },
                                {
                                    "0": "NULL",
                                    "1": "NULL",
                                    "2": "NULL",
                                    "3": "30",
                                    "4": "1094"
                                },
                                {
                                    "0": "The Odyssey",
                                    "1": "3.73",
                                    "2": "1703",
                                    "3": "30",
                                    "4": "1381"
                                },
                                {
                                    "0": "NULL",
                                    "1": "NULL",
                                    "2": "NULL",
                                    "3": "30",
                                    "4": "2117"
                                },
                                {
                                    "0": "NULL",
                                    "1": "NULL",
                                    "2": "NULL",
                                    "3": "30",
                                    "4": "2426"
                                },
                                {
                                    "0": "NULL",
                                    "1": "NULL",
                                    "2": "NULL",
                                    "3": "30",
                                    "4": "3444"
                                },
                                {
                                    "0": "The Pilgrimage",
                                    "1": "3.64",
                                    "2": "171",
                                    "3": "30",
                                    "4": "4004"
                                },
                                {
                                    "0": "NULL",
                                    "1": "NULL",
                                    "2": "NULL",
                                    "3": "30",
                                    "4": "4202"
                                },
                                {
                                    "0": "NULL",
                                    "1": "NULL",
                                    "2": "NULL",
                                    "3": "30",
                                    "4": "4509"
                                },
                                {
                                    "0": "NULL",
                                    "1": "NULL",
                                    "2": "NULL",
                                    "3": "30",
                                    "4": "5880"
                                },
                                {
                                    "0": "The Hobbit",
                                    "1": "4.25",
                                    "2": "969",
                                    "3": "30",
                                    "4": "5907"
                                },
                                {
                                    "0": "NULL",
                                    "1": "NULL",
                                    "2": "NULL",
                                    "3": "30",
                                    "4": "6828"
                                },
                                {
                                    "0": "NULL",
                                    "1": "NULL",
                                    "2": "NULL",
                                    "3": "30",
                                    "4": "7563"
                                },
                                {
                                    "0": "NULL",
                                    "1": "NULL",
                                    "2": "NULL",
                                    "3": "30",
                                    "4": "8737"
                                },
                                {
                                    "0": "NULL",
                                    "1": "NULL",
                                    "2": "NULL",
                                    "3": "31",
                                    "4": "94"
                                },
                                {
                                    "0": "NULL",
                                    "1": "NULL",
                                    "2": "NULL",
                                    "3": "31",
                                    "4": "584"
                                }
                            ]
                        },
                        "text/html": "<table><tr><th>title</th><th>average_rating</th><th>books_count</th><th>user_id</th><th>book_id</th></tr><tr><td>Children of Dune (Dune Chronicles #3)</td><td>3.9</td><td>116</td><td>1</td><td>112</td></tr><tr><td>NULL</td><td>NULL</td><td>NULL</td><td>1</td><td>235</td></tr><tr><td>NULL</td><td>NULL</td><td>NULL</td><td>1</td><td>533</td></tr><tr><td>NULL</td><td>NULL</td><td>NULL</td><td>1</td><td>1198</td></tr><tr><td>NULL</td><td>NULL</td><td>NULL</td><td>1</td><td>1874</td></tr><tr><td>NULL</td><td>NULL</td><td>NULL</td><td>1</td><td>2058</td></tr><tr><td>NULL</td><td>NULL</td><td>NULL</td><td>1</td><td>3334</td></tr><tr><td>NULL</td><td>NULL</td><td>NULL</td><td>2</td><td>4</td></tr><tr><td>NULL</td><td>NULL</td><td>NULL</td><td>2</td><td>11</td></tr><tr><td>The Ultimate Hitchhiker's Guide to the Galaxy</td><td>4.37</td><td>32</td><td>2</td><td>13</td></tr><tr><td>NULL</td><td>NULL</td><td>NULL</td><td>2</td><td>16</td></tr><tr><td>NULL</td><td>NULL</td><td>NULL</td><td>2</td><td>92</td></tr><tr><td>Dune Messiah (Dune Chronicles #2)</td><td>3.86</td><td>140</td><td>2</td><td>106</td></tr><tr><td>NULL</td><td>NULL</td><td>NULL</td><td>2</td><td>113</td></tr><tr><td>NULL</td><td>NULL</td><td>NULL</td><td>2</td><td>233</td></tr><tr><td>NULL</td><td>NULL</td><td>NULL</td><td>2</td><td>247</td></tr><tr><td>NULL</td><td>NULL</td><td>NULL</td><td>2</td><td>380</td></tr><tr><td>NULL</td><td>NULL</td><td>NULL</td><td>2</td><td>408</td></tr><tr><td>NULL</td><td>NULL</td><td>NULL</td><td>2</td><td>439</td></tr><tr><td>NULL</td><td>NULL</td><td>NULL</td><td>2</td><td>479</td></tr><tr><td>NULL</td><td>NULL</td><td>NULL</td><td>2</td><td>516</td></tr><tr><td>NULL</td><td>NULL</td><td>NULL</td><td>2</td><td>619</td></tr><tr><td>NULL</td><td>NULL</td><td>NULL</td><td>2</td><td>1069</td></tr><tr><td>The Iliad</td><td>3.83</td><td>1726</td><td>2</td><td>1371</td></tr><tr><td>NULL</td><td>NULL</td><td>NULL</td><td>2</td><td>1384</td></tr><tr><td>NULL</td><td>NULL</td><td>NULL</td><td>2</td><td>1597</td></tr><tr><td>NULL</td><td>NULL</td><td>NULL</td><td>2</td><td>1926</td></tr><tr><td>NULL</td><td>NULL</td><td>NULL</td><td>2</td><td>1967</td></tr><tr><td>NULL</td><td>NULL</td><td>NULL</td><td>2</td><td>1969</td></tr><tr><td>NULL</td><td>NULL</td><td>NULL</td><td>2</td><td>2220</td></tr><tr><td>NULL</td><td>NULL</td><td>NULL</td><td>2</td><td>2388</td></tr><tr><td>NULL</td><td>NULL</td><td>NULL</td><td>2</td><td>3222</td></tr><tr><td>NULL</td><td>NULL</td><td>NULL</td><td>2</td><td>3227</td></tr><tr><td>NULL</td><td>NULL</td><td>NULL</td><td>2</td><td>3733</td></tr><tr><td>NULL</td><td>NULL</td><td>NULL</td><td>2</td><td>5418</td></tr><tr><td>NULL</td><td>NULL</td><td>NULL</td><td>2</td><td>6937</td></tr><tr><td>NULL</td><td>NULL</td><td>NULL</td><td>2</td><td>7146</td></tr><tr><td>NULL</td><td>NULL</td><td>NULL</td><td>2</td><td>7873</td></tr><tr><td>NULL</td><td>NULL</td><td>NULL</td><td>2</td><td>8417</td></tr><tr><td>Harry Potter Collection (Harry Potter, #1-6)</td><td>4.73</td><td>6</td><td>3</td><td>10</td></tr><tr><td>NULL</td><td>NULL</td><td>NULL</td><td>3</td><td>66</td></tr><tr><td>NULL</td><td>NULL</td><td>NULL</td><td>3</td><td>233</td></tr><tr><td>NULL</td><td>NULL</td><td>NULL</td><td>3</td><td>726</td></tr><tr><td>NULL</td><td>NULL</td><td>NULL</td><td>3</td><td>932</td></tr><tr><td>NULL</td><td>NULL</td><td>NULL</td><td>3</td><td>1146</td></tr><tr><td>NULL</td><td>NULL</td><td>NULL</td><td>3</td><td>2439</td></tr><tr><td>NULL</td><td>NULL</td><td>NULL</td><td>3</td><td>3566</td></tr><tr><td>NULL</td><td>NULL</td><td>NULL</td><td>3</td><td>4582</td></tr><tr><td>NULL</td><td>NULL</td><td>NULL</td><td>3</td><td>5448</td></tr><tr><td>NULL</td><td>NULL</td><td>NULL</td><td>3</td><td>5765</td></tr><tr><td>NULL</td><td>NULL</td><td>NULL</td><td>3</td><td>6274</td></tr><tr><td>NULL</td><td>NULL</td><td>NULL</td><td>3</td><td>8403</td></tr><tr><td>NULL</td><td>NULL</td><td>NULL</td><td>5</td><td>31</td></tr><tr><td>The Virtue of Selfishness: A New Concept of Egoism</td><td>3.47</td><td>53</td><td>5</td><td>665</td></tr><tr><td>NULL</td><td>NULL</td><td>NULL</td><td>5</td><td>3074</td></tr><tr><td>Sherlock Holmes: The Complete Novels and Stories, Volume I</td><td>4.45</td><td>13</td><td>5</td><td>3581</td></tr><tr><td>NULL</td><td>NULL</td><td>NULL</td><td>6</td><td>64</td></tr><tr><td>NULL</td><td>NULL</td><td>NULL</td><td>6</td><td>459</td></tr><tr><td>NULL</td><td>NULL</td><td>NULL</td><td>6</td><td>619</td></tr><tr><td>NULL</td><td>NULL</td><td>NULL</td><td>6</td><td>649</td></tr><tr><td>NULL</td><td>NULL</td><td>NULL</td><td>6</td><td>687</td></tr><tr><td>NULL</td><td>NULL</td><td>NULL</td><td>6</td><td>874</td></tr><tr><td>The War of Art: Break Through the Blocks &amp; Win Your Inner Creative Battles</td><td>4.07</td><td>29</td><td>6</td><td>1319</td></tr><tr><td>NULL</td><td>NULL</td><td>NULL</td><td>6</td><td>1912</td></tr><tr><td>NULL</td><td>NULL</td><td>NULL</td><td>6</td><td>5269</td></tr><tr><td>NULL</td><td>NULL</td><td>NULL</td><td>6</td><td>5537</td></tr><tr><td>NULL</td><td>NULL</td><td>NULL</td><td>6</td><td>5820</td></tr><tr><td>NULL</td><td>NULL</td><td>NULL</td><td>6</td><td>6220</td></tr><tr><td>NULL</td><td>NULL</td><td>NULL</td><td>6</td><td>7480</td></tr><tr><td>Harry Potter Collection (Harry Potter, #1-6)</td><td>4.73</td><td>6</td><td>7</td><td>10</td></tr><tr><td>NULL</td><td>NULL</td><td>NULL</td><td>7</td><td>215</td></tr><tr><td>NULL</td><td>NULL</td><td>NULL</td><td>7</td><td>225</td></tr><tr><td>NULL</td><td>NULL</td><td>NULL</td><td>7</td><td>233</td></tr><tr><td>NULL</td><td>NULL</td><td>NULL</td><td>7</td><td>1322</td></tr><tr><td>NULL</td><td>NULL</td><td>NULL</td><td>7</td><td>3552</td></tr><tr><td>NULL</td><td>NULL</td><td>NULL</td><td>7</td><td>3720</td></tr><tr><td>NULL</td><td>NULL</td><td>NULL</td><td>7</td><td>4468</td></tr><tr><td>NULL</td><td>NULL</td><td>NULL</td><td>8</td><td>19</td></tr><tr><td>NULL</td><td>NULL</td><td>NULL</td><td>8</td><td>498</td></tr><tr><td>NULL</td><td>NULL</td><td>NULL</td><td>8</td><td>1357</td></tr><tr><td>NULL</td><td>NULL</td><td>NULL</td><td>8</td><td>2177</td></tr><tr><td>NULL</td><td>NULL</td><td>NULL</td><td>8</td><td>3930</td></tr><tr><td>The Pilgrimage</td><td>3.64</td><td>171</td><td>8</td><td>4004</td></tr><tr><td>NULL</td><td>NULL</td><td>NULL</td><td>8</td><td>8792</td></tr><tr><td>NULL</td><td>NULL</td><td>NULL</td><td>8</td><td>9304</td></tr><tr><td>Harry Potter Boxed Set, Books 1-5 (Harry Potter, #1-5)</td><td>4.77</td><td>11</td><td>9</td><td>8</td></tr><tr><td>Children of Dune (Dune Chronicles #3)</td><td>3.9</td><td>116</td><td>9</td><td>112</td></tr><tr><td>NULL</td><td>NULL</td><td>NULL</td><td>9</td><td>139</td></tr><tr><td>NULL</td><td>NULL</td><td>NULL</td><td>9</td><td>230</td></tr><tr><td>NULL</td><td>NULL</td><td>NULL</td><td>9</td><td>233</td></tr><tr><td>NULL</td><td>NULL</td><td>NULL</td><td>9</td><td>473</td></tr><tr><td>NULL</td><td>NULL</td><td>NULL</td><td>9</td><td>638</td></tr><tr><td>NULL</td><td>NULL</td><td>NULL</td><td>9</td><td>653</td></tr><tr><td>NULL</td><td>NULL</td><td>NULL</td><td>9</td><td>672</td></tr><tr><td>NULL</td><td>NULL</td><td>NULL</td><td>9</td><td>701</td></tr><tr><td>NULL</td><td>NULL</td><td>NULL</td><td>9</td><td>736</td></tr><tr><td>NULL</td><td>NULL</td><td>NULL</td><td>9</td><td>883</td></tr><tr><td>NULL</td><td>NULL</td><td>NULL</td><td>9</td><td>895</td></tr><tr><td>NULL</td><td>NULL</td><td>NULL</td><td>9</td><td>1467</td></tr><tr><td>NULL</td><td>NULL</td><td>NULL</td><td>9</td><td>1582</td></tr><tr><td>NULL</td><td>NULL</td><td>NULL</td><td>9</td><td>1873</td></tr><tr><td>NULL</td><td>NULL</td><td>NULL</td><td>9</td><td>2516</td></tr><tr><td>NULL</td><td>NULL</td><td>NULL</td><td>9</td><td>2630</td></tr><tr><td>NULL</td><td>NULL</td><td>NULL</td><td>9</td><td>3210</td></tr><tr><td>Icy Sparks</td><td>3.68</td><td>27</td><td>9</td><td>3476</td></tr><tr><td>NULL</td><td>NULL</td><td>NULL</td><td>9</td><td>3560</td></tr><tr><td>NULL</td><td>NULL</td><td>NULL</td><td>9</td><td>3650</td></tr><tr><td>NULL</td><td>NULL</td><td>NULL</td><td>9</td><td>5286</td></tr><tr><td>NULL</td><td>NULL</td><td>NULL</td><td>9</td><td>6636</td></tr><tr><td>Harry Potter and the Goblet of Fire (Harry Potter, #4)</td><td>4.53</td><td>332</td><td>10</td><td>6</td></tr><tr><td>NULL</td><td>NULL</td><td>NULL</td><td>10</td><td>385</td></tr><tr><td>Atlas Shrugged</td><td>3.68</td><td>147</td><td>10</td><td>662</td></tr><tr><td>NULL</td><td>NULL</td><td>NULL</td><td>10</td><td>896</td></tr><tr><td>NULL</td><td>NULL</td><td>NULL</td><td>10</td><td>1076</td></tr><tr><td>NULL</td><td>NULL</td><td>NULL</td><td>10</td><td>1082</td></tr><tr><td>NULL</td><td>NULL</td><td>NULL</td><td>10</td><td>1220</td></tr><tr><td>NULL</td><td>NULL</td><td>NULL</td><td>10</td><td>1281</td></tr><tr><td>NULL</td><td>NULL</td><td>NULL</td><td>10</td><td>1439</td></tr><tr><td>NULL</td><td>NULL</td><td>NULL</td><td>10</td><td>1851</td></tr><tr><td>NULL</td><td>NULL</td><td>NULL</td><td>10</td><td>1920</td></tr><tr><td>NULL</td><td>NULL</td><td>NULL</td><td>10</td><td>2441</td></tr><tr><td>NULL</td><td>NULL</td><td>NULL</td><td>10</td><td>2570</td></tr><tr><td>NULL</td><td>NULL</td><td>NULL</td><td>10</td><td>2616</td></tr><tr><td>NULL</td><td>NULL</td><td>NULL</td><td>10</td><td>3059</td></tr><tr><td>NULL</td><td>NULL</td><td>NULL</td><td>10</td><td>3545</td></tr><tr><td>NULL</td><td>NULL</td><td>NULL</td><td>10</td><td>3961</td></tr><tr><td>NULL</td><td>NULL</td><td>NULL</td><td>10</td><td>4369</td></tr><tr><td>NULL</td><td>NULL</td><td>NULL</td><td>10</td><td>4510</td></tr><tr><td>NULL</td><td>NULL</td><td>NULL</td><td>10</td><td>5104</td></tr><tr><td>NULL</td><td>NULL</td><td>NULL</td><td>10</td><td>5254</td></tr><tr><td>NULL</td><td>NULL</td><td>NULL</td><td>10</td><td>5556</td></tr><tr><td>NULL</td><td>NULL</td><td>NULL</td><td>10</td><td>6114</td></tr><tr><td>NULL</td><td>NULL</td><td>NULL</td><td>10</td><td>6917</td></tr><tr><td>NULL</td><td>NULL</td><td>NULL</td><td>10</td><td>7545</td></tr><tr><td>NULL</td><td>NULL</td><td>NULL</td><td>10</td><td>7842</td></tr><tr><td>NULL</td><td>NULL</td><td>NULL</td><td>11</td><td>3643</td></tr><tr><td>Harry Potter and the Half-Blood Prince (Harry Potter, #6)</td><td>4.54</td><td>275</td><td>12</td><td>1</td></tr><tr><td>NULL</td><td>NULL</td><td>NULL</td><td>12</td><td>124</td></tr><tr><td>NULL</td><td>NULL</td><td>NULL</td><td>12</td><td>1471</td></tr><tr><td>NULL</td><td>NULL</td><td>NULL</td><td>12</td><td>2893</td></tr><tr><td>NULL</td><td>NULL</td><td>NULL</td><td>13</td><td>81</td></tr><tr><td>NULL</td><td>NULL</td><td>NULL</td><td>13</td><td>277</td></tr><tr><td>NULL</td><td>NULL</td><td>NULL</td><td>13</td><td>318</td></tr><tr><td>NULL</td><td>NULL</td><td>NULL</td><td>13</td><td>430</td></tr><tr><td>NULL</td><td>NULL</td><td>NULL</td><td>13</td><td>437</td></tr><tr><td>NULL</td><td>NULL</td><td>NULL</td><td>13</td><td>551</td></tr><tr><td>NULL</td><td>NULL</td><td>NULL</td><td>13</td><td>560</td></tr><tr><td>NULL</td><td>NULL</td><td>NULL</td><td>13</td><td>610</td></tr><tr><td>NULL</td><td>NULL</td><td>NULL</td><td>13</td><td>678</td></tr><tr><td>NULL</td><td>NULL</td><td>NULL</td><td>13</td><td>979</td></tr><tr><td>NULL</td><td>NULL</td><td>NULL</td><td>13</td><td>1082</td></tr><tr><td>NULL</td><td>NULL</td><td>NULL</td><td>13</td><td>1464</td></tr><tr><td>NULL</td><td>NULL</td><td>NULL</td><td>13</td><td>1577</td></tr><tr><td>NULL</td><td>NULL</td><td>NULL</td><td>13</td><td>2018</td></tr><tr><td>NULL</td><td>NULL</td><td>NULL</td><td>13</td><td>2418</td></tr><tr><td>NULL</td><td>NULL</td><td>NULL</td><td>13</td><td>3257</td></tr><tr><td>NULL</td><td>NULL</td><td>NULL</td><td>13</td><td>4212</td></tr><tr><td>NULL</td><td>NULL</td><td>NULL</td><td>13</td><td>4635</td></tr><tr><td>NULL</td><td>NULL</td><td>NULL</td><td>13</td><td>4704</td></tr><tr><td>NULL</td><td>NULL</td><td>NULL</td><td>13</td><td>4734</td></tr><tr><td>NULL</td><td>NULL</td><td>NULL</td><td>13</td><td>4841</td></tr><tr><td>NULL</td><td>NULL</td><td>NULL</td><td>13</td><td>4848</td></tr><tr><td>NULL</td><td>NULL</td><td>NULL</td><td>13</td><td>4856</td></tr><tr><td>NULL</td><td>NULL</td><td>NULL</td><td>13</td><td>4928</td></tr><tr><td>NULL</td><td>NULL</td><td>NULL</td><td>13</td><td>6114</td></tr><tr><td>NULL</td><td>NULL</td><td>NULL</td><td>13</td><td>6793</td></tr><tr><td>NULL</td><td>NULL</td><td>NULL</td><td>13</td><td>6962</td></tr><tr><td>NULL</td><td>NULL</td><td>NULL</td><td>13</td><td>8717</td></tr><tr><td>NULL</td><td>NULL</td><td>NULL</td><td>14</td><td>493</td></tr><tr><td>NULL</td><td>NULL</td><td>NULL</td><td>14</td><td>1179</td></tr><tr><td>NULL</td><td>NULL</td><td>NULL</td><td>14</td><td>2693</td></tr><tr><td>Sherlock Holmes: The Complete Novels and Stories, Volume I</td><td>4.45</td><td>13</td><td>14</td><td>3581</td></tr><tr><td>NULL</td><td>NULL</td><td>NULL</td><td>14</td><td>3683</td></tr><tr><td>NULL</td><td>NULL</td><td>NULL</td><td>14</td><td>3953</td></tr><tr><td>NULL</td><td>NULL</td><td>NULL</td><td>14</td><td>4220</td></tr><tr><td>NULL</td><td>NULL</td><td>NULL</td><td>14</td><td>5076</td></tr><tr><td>NULL</td><td>NULL</td><td>NULL</td><td>14</td><td>5537</td></tr><tr><td>NULL</td><td>NULL</td><td>NULL</td><td>14</td><td>7777</td></tr><tr><td>NULL</td><td>NULL</td><td>NULL</td><td>15</td><td>191</td></tr><tr><td>The Lover</td><td>3.76</td><td>148</td><td>15</td><td>275</td></tr><tr><td>NULL</td><td>NULL</td><td>NULL</td><td>15</td><td>398</td></tr><tr><td>NULL</td><td>NULL</td><td>NULL</td><td>15</td><td>666</td></tr><tr><td>NULL</td><td>NULL</td><td>NULL</td><td>15</td><td>1491</td></tr><tr><td>NULL</td><td>NULL</td><td>NULL</td><td>15</td><td>5210</td></tr><tr><td>NULL</td><td>NULL</td><td>NULL</td><td>17</td><td>1344</td></tr><tr><td>The Good Soldier</td><td>3.72</td><td>362</td><td>20</td><td>7628</td></tr><tr><td>NULL</td><td>NULL</td><td>NULL</td><td>22</td><td>653</td></tr><tr><td>NULL</td><td>NULL</td><td>NULL</td><td>22</td><td>1403</td></tr><tr><td>NULL</td><td>NULL</td><td>NULL</td><td>22</td><td>1405</td></tr><tr><td>NULL</td><td>NULL</td><td>NULL</td><td>22</td><td>1645</td></tr><tr><td>NULL</td><td>NULL</td><td>NULL</td><td>22</td><td>2500</td></tr><tr><td>NULL</td><td>NULL</td><td>NULL</td><td>22</td><td>2691</td></tr><tr><td>NULL</td><td>NULL</td><td>NULL</td><td>22</td><td>4995</td></tr><tr><td>NULL</td><td>NULL</td><td>NULL</td><td>23</td><td>273</td></tr><tr><td>NULL</td><td>NULL</td><td>NULL</td><td>23</td><td>459</td></tr><tr><td>NULL</td><td>NULL</td><td>NULL</td><td>23</td><td>791</td></tr><tr><td>NULL</td><td>NULL</td><td>NULL</td><td>23</td><td>886</td></tr><tr><td>NULL</td><td>NULL</td><td>NULL</td><td>23</td><td>925</td></tr><tr><td>NULL</td><td>NULL</td><td>NULL</td><td>23</td><td>1198</td></tr><tr><td>NULL</td><td>NULL</td><td>NULL</td><td>23</td><td>1597</td></tr><tr><td>NULL</td><td>NULL</td><td>NULL</td><td>23</td><td>1688</td></tr><tr><td>NULL</td><td>NULL</td><td>NULL</td><td>23</td><td>2251</td></tr><tr><td>NULL</td><td>NULL</td><td>NULL</td><td>23</td><td>2350</td></tr><tr><td>NULL</td><td>NULL</td><td>NULL</td><td>23</td><td>2613</td></tr><tr><td>NULL</td><td>NULL</td><td>NULL</td><td>23</td><td>3312</td></tr><tr><td>NULL</td><td>NULL</td><td>NULL</td><td>23</td><td>3343</td></tr><tr><td>NULL</td><td>NULL</td><td>NULL</td><td>24</td><td>61</td></tr><tr><td>NULL</td><td>NULL</td><td>NULL</td><td>24</td><td>143</td></tr><tr><td>NULL</td><td>NULL</td><td>NULL</td><td>24</td><td>421</td></tr><tr><td>NULL</td><td>NULL</td><td>NULL</td><td>24</td><td>467</td></tr><tr><td>NULL</td><td>NULL</td><td>NULL</td><td>24</td><td>974</td></tr><tr><td>NULL</td><td>NULL</td><td>NULL</td><td>26</td><td>508</td></tr><tr><td>NULL</td><td>NULL</td><td>NULL</td><td>26</td><td>1796</td></tr><tr><td>NULL</td><td>NULL</td><td>NULL</td><td>26</td><td>2257</td></tr><tr><td>NULL</td><td>NULL</td><td>NULL</td><td>26</td><td>2314</td></tr><tr><td>NULL</td><td>NULL</td><td>NULL</td><td>26</td><td>2357</td></tr><tr><td>NULL</td><td>NULL</td><td>NULL</td><td>26</td><td>2738</td></tr><tr><td>NULL</td><td>NULL</td><td>NULL</td><td>26</td><td>2810</td></tr><tr><td>NULL</td><td>NULL</td><td>NULL</td><td>26</td><td>3207</td></tr><tr><td>The Thorn Birds</td><td>4.22</td><td>201</td><td>26</td><td>3412</td></tr><tr><td>The Complete Sherlock Holmes, Vol 2</td><td>4.46</td><td>117</td><td>26</td><td>3586</td></tr><tr><td>The Dark Tower (The Dark Tower, #7)</td><td>4.27</td><td>105</td><td>26</td><td>5091</td></tr><tr><td>NULL</td><td>NULL</td><td>NULL</td><td>26</td><td>5550</td></tr><tr><td>NULL</td><td>NULL</td><td>NULL</td><td>26</td><td>6877</td></tr><tr><td>NULL</td><td>NULL</td><td>NULL</td><td>26</td><td>7970</td></tr><tr><td>NULL</td><td>NULL</td><td>NULL</td><td>28</td><td>265</td></tr><tr><td>NULL</td><td>NULL</td><td>NULL</td><td>28</td><td>587</td></tr><tr><td>NULL</td><td>NULL</td><td>NULL</td><td>28</td><td>3543</td></tr><tr><td>NULL</td><td>NULL</td><td>NULL</td><td>28</td><td>5215</td></tr><tr><td>NULL</td><td>NULL</td><td>NULL</td><td>28</td><td>7496</td></tr><tr><td>NULL</td><td>NULL</td><td>NULL</td><td>28</td><td>8654</td></tr><tr><td>NULL</td><td>NULL</td><td>NULL</td><td>29</td><td>31</td></tr><tr><td>NULL</td><td>NULL</td><td>NULL</td><td>29</td><td>32</td></tr><tr><td>The Lord of the Rings: Weapons and Warfare</td><td>4.53</td><td>12</td><td>29</td><td>36</td></tr><tr><td>NULL</td><td>NULL</td><td>NULL</td><td>29</td><td>45</td></tr><tr><td>NULL</td><td>NULL</td><td>NULL</td><td>29</td><td>65</td></tr><tr><td>NULL</td><td>NULL</td><td>NULL</td><td>29</td><td>87</td></tr><tr><td>NULL</td><td>NULL</td><td>NULL</td><td>29</td><td>115</td></tr><tr><td>NULL</td><td>NULL</td><td>NULL</td><td>29</td><td>121</td></tr><tr><td>NULL</td><td>NULL</td><td>NULL</td><td>29</td><td>131</td></tr><tr><td>NULL</td><td>NULL</td><td>NULL</td><td>29</td><td>178</td></tr><tr><td>NULL</td><td>NULL</td><td>NULL</td><td>29</td><td>256</td></tr><tr><td>NULL</td><td>NULL</td><td>NULL</td><td>29</td><td>323</td></tr><tr><td>Slouching Towards Bethlehem</td><td>4.24</td><td>34</td><td>29</td><td>424</td></tr><tr><td>NULL</td><td>NULL</td><td>NULL</td><td>29</td><td>467</td></tr><tr><td>NULL</td><td>NULL</td><td>NULL</td><td>29</td><td>550</td></tr><tr><td>NULL</td><td>NULL</td><td>NULL</td><td>29</td><td>618</td></tr><tr><td>Atlas Shrugged</td><td>3.68</td><td>147</td><td>29</td><td>662</td></tr><tr><td>NULL</td><td>NULL</td><td>NULL</td><td>29</td><td>709</td></tr><tr><td>NULL</td><td>NULL</td><td>NULL</td><td>29</td><td>730</td></tr><tr><td>NULL</td><td>NULL</td><td>NULL</td><td>29</td><td>771</td></tr><tr><td>NULL</td><td>NULL</td><td>NULL</td><td>29</td><td>809</td></tr><tr><td>NULL</td><td>NULL</td><td>NULL</td><td>29</td><td>934</td></tr><tr><td>NULL</td><td>NULL</td><td>NULL</td><td>29</td><td>1084</td></tr><tr><td>NULL</td><td>NULL</td><td>NULL</td><td>29</td><td>1364</td></tr><tr><td>NULL</td><td>NULL</td><td>NULL</td><td>29</td><td>1642</td></tr><tr><td>NULL</td><td>NULL</td><td>NULL</td><td>29</td><td>1695</td></tr><tr><td>NULL</td><td>NULL</td><td>NULL</td><td>29</td><td>2259</td></tr><tr><td>NULL</td><td>NULL</td><td>NULL</td><td>29</td><td>2284</td></tr><tr><td>NULL</td><td>NULL</td><td>NULL</td><td>29</td><td>2304</td></tr><tr><td>NULL</td><td>NULL</td><td>NULL</td><td>29</td><td>2967</td></tr><tr><td>NULL</td><td>NULL</td><td>NULL</td><td>29</td><td>3508</td></tr><tr><td>NULL</td><td>NULL</td><td>NULL</td><td>29</td><td>4359</td></tr><tr><td>NULL</td><td>NULL</td><td>NULL</td><td>29</td><td>4394</td></tr><tr><td>NULL</td><td>NULL</td><td>NULL</td><td>29</td><td>4475</td></tr><tr><td>NULL</td><td>NULL</td><td>NULL</td><td>29</td><td>4629</td></tr><tr><td>NULL</td><td>NULL</td><td>NULL</td><td>29</td><td>5090</td></tr><tr><td>NULL</td><td>NULL</td><td>NULL</td><td>29</td><td>5596</td></tr><tr><td>NULL</td><td>NULL</td><td>NULL</td><td>29</td><td>5851</td></tr><tr><td>NULL</td><td>NULL</td><td>NULL</td><td>29</td><td>6104</td></tr><tr><td>NULL</td><td>NULL</td><td>NULL</td><td>30</td><td>47</td></tr><tr><td>The Known World</td><td>3.82</td><td>42</td><td>30</td><td>67</td></tr><tr><td>NULL</td><td>NULL</td><td>NULL</td><td>30</td><td>82</td></tr><tr><td>NULL</td><td>NULL</td><td>NULL</td><td>30</td><td>121</td></tr><tr><td>NULL</td><td>NULL</td><td>NULL</td><td>30</td><td>177</td></tr><tr><td>Tropic of Cancer</td><td>3.71</td><td>205</td><td>30</td><td>249</td></tr><tr><td>NULL</td><td>NULL</td><td>NULL</td><td>30</td><td>297</td></tr><tr><td>NULL</td><td>NULL</td><td>NULL</td><td>30</td><td>407</td></tr><tr><td>NULL</td><td>NULL</td><td>NULL</td><td>30</td><td>426</td></tr><tr><td>NULL</td><td>NULL</td><td>NULL</td><td>30</td><td>430</td></tr><tr><td>NULL</td><td>NULL</td><td>NULL</td><td>30</td><td>442</td></tr><tr><td>NULL</td><td>NULL</td><td>NULL</td><td>30</td><td>516</td></tr><tr><td>NULL</td><td>NULL</td><td>NULL</td><td>30</td><td>658</td></tr><tr><td>NULL</td><td>NULL</td><td>NULL</td><td>30</td><td>895</td></tr><tr><td>NULL</td><td>NULL</td><td>NULL</td><td>30</td><td>1039</td></tr><tr><td>NULL</td><td>NULL</td><td>NULL</td><td>30</td><td>1094</td></tr><tr><td>The Odyssey</td><td>3.73</td><td>1703</td><td>30</td><td>1381</td></tr><tr><td>NULL</td><td>NULL</td><td>NULL</td><td>30</td><td>2117</td></tr><tr><td>NULL</td><td>NULL</td><td>NULL</td><td>30</td><td>2426</td></tr><tr><td>NULL</td><td>NULL</td><td>NULL</td><td>30</td><td>3444</td></tr><tr><td>The Pilgrimage</td><td>3.64</td><td>171</td><td>30</td><td>4004</td></tr><tr><td>NULL</td><td>NULL</td><td>NULL</td><td>30</td><td>4202</td></tr><tr><td>NULL</td><td>NULL</td><td>NULL</td><td>30</td><td>4509</td></tr><tr><td>NULL</td><td>NULL</td><td>NULL</td><td>30</td><td>5880</td></tr><tr><td>The Hobbit</td><td>4.25</td><td>969</td><td>30</td><td>5907</td></tr><tr><td>NULL</td><td>NULL</td><td>NULL</td><td>30</td><td>6828</td></tr><tr><td>NULL</td><td>NULL</td><td>NULL</td><td>30</td><td>7563</td></tr><tr><td>NULL</td><td>NULL</td><td>NULL</td><td>30</td><td>8737</td></tr><tr><td>NULL</td><td>NULL</td><td>NULL</td><td>31</td><td>94</td></tr><tr><td>NULL</td><td>NULL</td><td>NULL</td><td>31</td><td>584</td></tr></table>"
                    },
                    "metadata": {}
                }
            ],
            "execution_count": 3
        },
        {
            "cell_type": "markdown",
            "source": [
                "## **QUESTION 3:** Exploring FULL JOINS with the **books** and **to\\_read** tables\n",
                "\n",
                "You will need to uncomment the Query to answer the question.\n",
                "\n",
                "**Part A:**  Look at the table and explore how it was populated.  Try manipulating the query to better understand how this table works.  Try adding a WHERE clause, or ORDER BY a column on the **books** table.  Based on your exploration, can you think of when you might want a FULL join rather than a LEFT, RIGHT, or INNER?\n",
                "\n",
                "> Your Answer: The FULL join would be useful when you want to know where the NULL values are."
            ],
            "metadata": {
                "azdata_cell_guid": "8f6b8f22-3e5a-4b87-a2f2-07279f1deb94"
            },
            "attachments": {}
        },
        {
            "cell_type": "code",
            "source": [
                "\n",
                "-- FULL JOIN\n",
                "SELECT TOP 30 b.title, b.average_rating, b.books_count,tr.user_id, tr.book_id\n",
                "FROM BooksDB.dbo.books AS b\n",
                "FULL JOIN BooksDB.dbo.to_read AS tr\n",
                "ON b.book_id = tr.book_id;\n",
                ""
            ],
            "metadata": {
                "azdata_cell_guid": "7c2a3dff-ef55-4222-aef0-7c0ab4f942eb",
                "tags": [],
                "language": "sql"
            },
            "outputs": [
                {
                    "output_type": "display_data",
                    "data": {
                        "text/html": "(30 rows affected)"
                    },
                    "metadata": {}
                },
                {
                    "output_type": "display_data",
                    "data": {
                        "text/html": "Total execution time: 00:00:00.063"
                    },
                    "metadata": {}
                },
                {
                    "output_type": "execute_result",
                    "execution_count": 4,
                    "data": {
                        "application/vnd.dataresource+json": {
                            "schema": {
                                "fields": [
                                    {
                                        "name": "title"
                                    },
                                    {
                                        "name": "average_rating"
                                    },
                                    {
                                        "name": "books_count"
                                    },
                                    {
                                        "name": "user_id"
                                    },
                                    {
                                        "name": "book_id"
                                    }
                                ]
                            },
                            "data": [
                                {
                                    "0": "Children of Dune (Dune Chronicles #3)",
                                    "1": "3.9",
                                    "2": "116",
                                    "3": "1",
                                    "4": "112"
                                },
                                {
                                    "0": "NULL",
                                    "1": "NULL",
                                    "2": "NULL",
                                    "3": "1",
                                    "4": "235"
                                },
                                {
                                    "0": "NULL",
                                    "1": "NULL",
                                    "2": "NULL",
                                    "3": "1",
                                    "4": "533"
                                },
                                {
                                    "0": "NULL",
                                    "1": "NULL",
                                    "2": "NULL",
                                    "3": "1",
                                    "4": "1198"
                                },
                                {
                                    "0": "NULL",
                                    "1": "NULL",
                                    "2": "NULL",
                                    "3": "1",
                                    "4": "1874"
                                },
                                {
                                    "0": "NULL",
                                    "1": "NULL",
                                    "2": "NULL",
                                    "3": "1",
                                    "4": "2058"
                                },
                                {
                                    "0": "NULL",
                                    "1": "NULL",
                                    "2": "NULL",
                                    "3": "1",
                                    "4": "3334"
                                },
                                {
                                    "0": "NULL",
                                    "1": "NULL",
                                    "2": "NULL",
                                    "3": "2",
                                    "4": "4"
                                },
                                {
                                    "0": "The Hitchhiker's Guide to the Galaxy (Hitchhiker's Guide to the Galaxy, #1)",
                                    "1": "4.2",
                                    "2": "257",
                                    "3": "2",
                                    "4": "11"
                                },
                                {
                                    "0": "The Ultimate Hitchhiker's Guide to the Galaxy",
                                    "1": "4.37",
                                    "2": "32",
                                    "3": "2",
                                    "4": "13"
                                },
                                {
                                    "0": "NULL",
                                    "1": "NULL",
                                    "2": "NULL",
                                    "3": "2",
                                    "4": "16"
                                },
                                {
                                    "0": "NULL",
                                    "1": "NULL",
                                    "2": "NULL",
                                    "3": "2",
                                    "4": "92"
                                },
                                {
                                    "0": "Dune Messiah (Dune Chronicles #2)",
                                    "1": "3.86",
                                    "2": "140",
                                    "3": "2",
                                    "4": "106"
                                },
                                {
                                    "0": "NULL",
                                    "1": "NULL",
                                    "2": "NULL",
                                    "3": "2",
                                    "4": "113"
                                },
                                {
                                    "0": "NULL",
                                    "1": "NULL",
                                    "2": "NULL",
                                    "3": "2",
                                    "4": "233"
                                },
                                {
                                    "0": "NULL",
                                    "1": "NULL",
                                    "2": "NULL",
                                    "3": "2",
                                    "4": "247"
                                },
                                {
                                    "0": "NULL",
                                    "1": "NULL",
                                    "2": "NULL",
                                    "3": "2",
                                    "4": "380"
                                },
                                {
                                    "0": "NULL",
                                    "1": "NULL",
                                    "2": "NULL",
                                    "3": "2",
                                    "4": "408"
                                },
                                {
                                    "0": "NULL",
                                    "1": "NULL",
                                    "2": "NULL",
                                    "3": "2",
                                    "4": "439"
                                },
                                {
                                    "0": "NULL",
                                    "1": "NULL",
                                    "2": "NULL",
                                    "3": "2",
                                    "4": "479"
                                },
                                {
                                    "0": "NULL",
                                    "1": "NULL",
                                    "2": "NULL",
                                    "3": "2",
                                    "4": "516"
                                },
                                {
                                    "0": "NULL",
                                    "1": "NULL",
                                    "2": "NULL",
                                    "3": "2",
                                    "4": "619"
                                },
                                {
                                    "0": "NULL",
                                    "1": "NULL",
                                    "2": "NULL",
                                    "3": "2",
                                    "4": "1069"
                                },
                                {
                                    "0": "The Iliad",
                                    "1": "3.83",
                                    "2": "1726",
                                    "3": "2",
                                    "4": "1371"
                                },
                                {
                                    "0": "NULL",
                                    "1": "NULL",
                                    "2": "NULL",
                                    "3": "2",
                                    "4": "1384"
                                },
                                {
                                    "0": "NULL",
                                    "1": "NULL",
                                    "2": "NULL",
                                    "3": "2",
                                    "4": "1597"
                                },
                                {
                                    "0": "NULL",
                                    "1": "NULL",
                                    "2": "NULL",
                                    "3": "2",
                                    "4": "1926"
                                },
                                {
                                    "0": "NULL",
                                    "1": "NULL",
                                    "2": "NULL",
                                    "3": "2",
                                    "4": "1967"
                                },
                                {
                                    "0": "NULL",
                                    "1": "NULL",
                                    "2": "NULL",
                                    "3": "2",
                                    "4": "1969"
                                },
                                {
                                    "0": "NULL",
                                    "1": "NULL",
                                    "2": "NULL",
                                    "3": "2",
                                    "4": "2220"
                                }
                            ]
                        },
                        "text/html": "<table><tr><th>title</th><th>average_rating</th><th>books_count</th><th>user_id</th><th>book_id</th></tr><tr><td>Children of Dune (Dune Chronicles #3)</td><td>3.9</td><td>116</td><td>1</td><td>112</td></tr><tr><td>NULL</td><td>NULL</td><td>NULL</td><td>1</td><td>235</td></tr><tr><td>NULL</td><td>NULL</td><td>NULL</td><td>1</td><td>533</td></tr><tr><td>NULL</td><td>NULL</td><td>NULL</td><td>1</td><td>1198</td></tr><tr><td>NULL</td><td>NULL</td><td>NULL</td><td>1</td><td>1874</td></tr><tr><td>NULL</td><td>NULL</td><td>NULL</td><td>1</td><td>2058</td></tr><tr><td>NULL</td><td>NULL</td><td>NULL</td><td>1</td><td>3334</td></tr><tr><td>NULL</td><td>NULL</td><td>NULL</td><td>2</td><td>4</td></tr><tr><td>The Hitchhiker's Guide to the Galaxy (Hitchhiker's Guide to the Galaxy, #1)</td><td>4.2</td><td>257</td><td>2</td><td>11</td></tr><tr><td>The Ultimate Hitchhiker's Guide to the Galaxy</td><td>4.37</td><td>32</td><td>2</td><td>13</td></tr><tr><td>NULL</td><td>NULL</td><td>NULL</td><td>2</td><td>16</td></tr><tr><td>NULL</td><td>NULL</td><td>NULL</td><td>2</td><td>92</td></tr><tr><td>Dune Messiah (Dune Chronicles #2)</td><td>3.86</td><td>140</td><td>2</td><td>106</td></tr><tr><td>NULL</td><td>NULL</td><td>NULL</td><td>2</td><td>113</td></tr><tr><td>NULL</td><td>NULL</td><td>NULL</td><td>2</td><td>233</td></tr><tr><td>NULL</td><td>NULL</td><td>NULL</td><td>2</td><td>247</td></tr><tr><td>NULL</td><td>NULL</td><td>NULL</td><td>2</td><td>380</td></tr><tr><td>NULL</td><td>NULL</td><td>NULL</td><td>2</td><td>408</td></tr><tr><td>NULL</td><td>NULL</td><td>NULL</td><td>2</td><td>439</td></tr><tr><td>NULL</td><td>NULL</td><td>NULL</td><td>2</td><td>479</td></tr><tr><td>NULL</td><td>NULL</td><td>NULL</td><td>2</td><td>516</td></tr><tr><td>NULL</td><td>NULL</td><td>NULL</td><td>2</td><td>619</td></tr><tr><td>NULL</td><td>NULL</td><td>NULL</td><td>2</td><td>1069</td></tr><tr><td>The Iliad</td><td>3.83</td><td>1726</td><td>2</td><td>1371</td></tr><tr><td>NULL</td><td>NULL</td><td>NULL</td><td>2</td><td>1384</td></tr><tr><td>NULL</td><td>NULL</td><td>NULL</td><td>2</td><td>1597</td></tr><tr><td>NULL</td><td>NULL</td><td>NULL</td><td>2</td><td>1926</td></tr><tr><td>NULL</td><td>NULL</td><td>NULL</td><td>2</td><td>1967</td></tr><tr><td>NULL</td><td>NULL</td><td>NULL</td><td>2</td><td>1969</td></tr><tr><td>NULL</td><td>NULL</td><td>NULL</td><td>2</td><td>2220</td></tr></table>"
                    },
                    "metadata": {}
                }
            ],
            "execution_count": 4
        },
        {
            "cell_type": "markdown",
            "source": [
                "## **QUESTION 4:** Exploring INNER Joins with the **books** and **to\\_read** tables\n",
                "\n",
                "You will need to uncomment the Query to answer the question.\n",
                "\n",
                "**Part A:**  What does an inner join do?\n",
                "\n",
                "> <span style=\"background-color: rgba(127, 127, 127, 0.1); font-family: -apple-system, BlinkMacSystemFont, sans-serif;\">Your Answer: It joins both tables, but only where there are values and NULLs are not present.&nbsp;</span>   \n",
                "\n",
                "<span style=\"background-color: rgba(127, 127, 127, 0.1); font-family: -apple-system, BlinkMacSystemFont, sans-serif;\"><b>Part B:</b>&nbsp;Currently this table has an <b>'IS NOT NULL'</b> in the <b>WHERE</b> clause.&nbsp; Is this necessary for this table?&nbsp; Why or Why not?&nbsp;</span>   \n",
                "\n",
                "> Your Answer: I don't think so, becuase and inner join does not return null values. I also tried running the code with that line commented out and it runs the same as with it. \n",
                "\n",
                "**Part C:**  When using SQL, you are usually returning much larger tables so every line of code will add to the compilation and return time.  Rewrite this inner join query so that it contains no redundant code.   \n",
                "\n",
                "> Your Answer:  Update the query in the code box below."
            ],
            "metadata": {
                "azdata_cell_guid": "4dab11ce-7995-4444-92dd-4cb2c0bc02c8"
            },
            "attachments": {}
        },
        {
            "cell_type": "code",
            "source": [
                "\n",
                "-- INNER JOIN\n",
                "SELECT TOP 30 b.title, b.average_rating, b.books_count,tr.user_id, tr.book_id\n",
                "FROM BooksDB.dbo.books AS b\n",
                "INNER JOIN BooksDB.dbo.to_read AS tr\n",
                "ON b.book_id = tr.book_id\n",
                "ORDER BY tr.book_id;\n",
                ""
            ],
            "metadata": {
                "azdata_cell_guid": "66d430ab-18aa-4a29-a32d-0585445e417c",
                "tags": [],
                "language": "sql"
            },
            "outputs": [
                {
                    "output_type": "display_data",
                    "data": {
                        "text/html": "(30 rows affected)"
                    },
                    "metadata": {}
                },
                {
                    "output_type": "display_data",
                    "data": {
                        "text/html": "Total execution time: 00:00:00.150"
                    },
                    "metadata": {}
                },
                {
                    "output_type": "execute_result",
                    "execution_count": 5,
                    "data": {
                        "application/vnd.dataresource+json": {
                            "schema": {
                                "fields": [
                                    {
                                        "name": "title"
                                    },
                                    {
                                        "name": "average_rating"
                                    },
                                    {
                                        "name": "books_count"
                                    },
                                    {
                                        "name": "user_id"
                                    },
                                    {
                                        "name": "book_id"
                                    }
                                ]
                            },
                            "data": [
                                {
                                    "0": "Harry Potter and the Half-Blood Prince (Harry Potter, #6)",
                                    "1": "4.54",
                                    "2": "275",
                                    "3": "12",
                                    "4": "1"
                                },
                                {
                                    "0": "Harry Potter and the Half-Blood Prince (Harry Potter, #6)",
                                    "1": "4.54",
                                    "2": "275",
                                    "3": "192",
                                    "4": "1"
                                },
                                {
                                    "0": "Harry Potter and the Half-Blood Prince (Harry Potter, #6)",
                                    "1": "4.54",
                                    "2": "275",
                                    "3": "202",
                                    "4": "1"
                                },
                                {
                                    "0": "Harry Potter and the Half-Blood Prince (Harry Potter, #6)",
                                    "1": "4.54",
                                    "2": "275",
                                    "3": "244",
                                    "4": "1"
                                },
                                {
                                    "0": "Harry Potter and the Half-Blood Prince (Harry Potter, #6)",
                                    "1": "4.54",
                                    "2": "275",
                                    "3": "253",
                                    "4": "1"
                                },
                                {
                                    "0": "Harry Potter and the Half-Blood Prince (Harry Potter, #6)",
                                    "1": "4.54",
                                    "2": "275",
                                    "3": "350",
                                    "4": "1"
                                },
                                {
                                    "0": "Harry Potter and the Half-Blood Prince (Harry Potter, #6)",
                                    "1": "4.54",
                                    "2": "275",
                                    "3": "478",
                                    "4": "1"
                                },
                                {
                                    "0": "Harry Potter and the Half-Blood Prince (Harry Potter, #6)",
                                    "1": "4.54",
                                    "2": "275",
                                    "3": "511",
                                    "4": "1"
                                },
                                {
                                    "0": "Harry Potter and the Half-Blood Prince (Harry Potter, #6)",
                                    "1": "4.54",
                                    "2": "275",
                                    "3": "525",
                                    "4": "1"
                                },
                                {
                                    "0": "Harry Potter and the Half-Blood Prince (Harry Potter, #6)",
                                    "1": "4.54",
                                    "2": "275",
                                    "3": "527",
                                    "4": "1"
                                },
                                {
                                    "0": "Harry Potter and the Half-Blood Prince (Harry Potter, #6)",
                                    "1": "4.54",
                                    "2": "275",
                                    "3": "552",
                                    "4": "1"
                                },
                                {
                                    "0": "Harry Potter and the Half-Blood Prince (Harry Potter, #6)",
                                    "1": "4.54",
                                    "2": "275",
                                    "3": "644",
                                    "4": "1"
                                },
                                {
                                    "0": "Harry Potter and the Half-Blood Prince (Harry Potter, #6)",
                                    "1": "4.54",
                                    "2": "275",
                                    "3": "754",
                                    "4": "1"
                                },
                                {
                                    "0": "Harry Potter and the Half-Blood Prince (Harry Potter, #6)",
                                    "1": "4.54",
                                    "2": "275",
                                    "3": "826",
                                    "4": "1"
                                },
                                {
                                    "0": "Harry Potter and the Half-Blood Prince (Harry Potter, #6)",
                                    "1": "4.54",
                                    "2": "275",
                                    "3": "1043",
                                    "4": "1"
                                },
                                {
                                    "0": "Harry Potter and the Half-Blood Prince (Harry Potter, #6)",
                                    "1": "4.54",
                                    "2": "275",
                                    "3": "1205",
                                    "4": "1"
                                },
                                {
                                    "0": "Harry Potter and the Half-Blood Prince (Harry Potter, #6)",
                                    "1": "4.54",
                                    "2": "275",
                                    "3": "1442",
                                    "4": "1"
                                },
                                {
                                    "0": "Harry Potter and the Half-Blood Prince (Harry Potter, #6)",
                                    "1": "4.54",
                                    "2": "275",
                                    "3": "1470",
                                    "4": "1"
                                },
                                {
                                    "0": "Harry Potter and the Half-Blood Prince (Harry Potter, #6)",
                                    "1": "4.54",
                                    "2": "275",
                                    "3": "1712",
                                    "4": "1"
                                },
                                {
                                    "0": "Harry Potter and the Half-Blood Prince (Harry Potter, #6)",
                                    "1": "4.54",
                                    "2": "275",
                                    "3": "1814",
                                    "4": "1"
                                },
                                {
                                    "0": "Harry Potter and the Half-Blood Prince (Harry Potter, #6)",
                                    "1": "4.54",
                                    "2": "275",
                                    "3": "1919",
                                    "4": "1"
                                },
                                {
                                    "0": "Harry Potter and the Half-Blood Prince (Harry Potter, #6)",
                                    "1": "4.54",
                                    "2": "275",
                                    "3": "2051",
                                    "4": "1"
                                },
                                {
                                    "0": "Harry Potter and the Half-Blood Prince (Harry Potter, #6)",
                                    "1": "4.54",
                                    "2": "275",
                                    "3": "2052",
                                    "4": "1"
                                },
                                {
                                    "0": "Harry Potter and the Half-Blood Prince (Harry Potter, #6)",
                                    "1": "4.54",
                                    "2": "275",
                                    "3": "2158",
                                    "4": "1"
                                },
                                {
                                    "0": "Harry Potter and the Half-Blood Prince (Harry Potter, #6)",
                                    "1": "4.54",
                                    "2": "275",
                                    "3": "2160",
                                    "4": "1"
                                },
                                {
                                    "0": "Harry Potter and the Half-Blood Prince (Harry Potter, #6)",
                                    "1": "4.54",
                                    "2": "275",
                                    "3": "2345",
                                    "4": "1"
                                },
                                {
                                    "0": "Harry Potter and the Half-Blood Prince (Harry Potter, #6)",
                                    "1": "4.54",
                                    "2": "275",
                                    "3": "2476",
                                    "4": "1"
                                },
                                {
                                    "0": "Harry Potter and the Half-Blood Prince (Harry Potter, #6)",
                                    "1": "4.54",
                                    "2": "275",
                                    "3": "2523",
                                    "4": "1"
                                },
                                {
                                    "0": "Harry Potter and the Half-Blood Prince (Harry Potter, #6)",
                                    "1": "4.54",
                                    "2": "275",
                                    "3": "2623",
                                    "4": "1"
                                },
                                {
                                    "0": "Harry Potter and the Half-Blood Prince (Harry Potter, #6)",
                                    "1": "4.54",
                                    "2": "275",
                                    "3": "2673",
                                    "4": "1"
                                }
                            ]
                        },
                        "text/html": "<table><tr><th>title</th><th>average_rating</th><th>books_count</th><th>user_id</th><th>book_id</th></tr><tr><td>Harry Potter and the Half-Blood Prince (Harry Potter, #6)</td><td>4.54</td><td>275</td><td>12</td><td>1</td></tr><tr><td>Harry Potter and the Half-Blood Prince (Harry Potter, #6)</td><td>4.54</td><td>275</td><td>192</td><td>1</td></tr><tr><td>Harry Potter and the Half-Blood Prince (Harry Potter, #6)</td><td>4.54</td><td>275</td><td>202</td><td>1</td></tr><tr><td>Harry Potter and the Half-Blood Prince (Harry Potter, #6)</td><td>4.54</td><td>275</td><td>244</td><td>1</td></tr><tr><td>Harry Potter and the Half-Blood Prince (Harry Potter, #6)</td><td>4.54</td><td>275</td><td>253</td><td>1</td></tr><tr><td>Harry Potter and the Half-Blood Prince (Harry Potter, #6)</td><td>4.54</td><td>275</td><td>350</td><td>1</td></tr><tr><td>Harry Potter and the Half-Blood Prince (Harry Potter, #6)</td><td>4.54</td><td>275</td><td>478</td><td>1</td></tr><tr><td>Harry Potter and the Half-Blood Prince (Harry Potter, #6)</td><td>4.54</td><td>275</td><td>511</td><td>1</td></tr><tr><td>Harry Potter and the Half-Blood Prince (Harry Potter, #6)</td><td>4.54</td><td>275</td><td>525</td><td>1</td></tr><tr><td>Harry Potter and the Half-Blood Prince (Harry Potter, #6)</td><td>4.54</td><td>275</td><td>527</td><td>1</td></tr><tr><td>Harry Potter and the Half-Blood Prince (Harry Potter, #6)</td><td>4.54</td><td>275</td><td>552</td><td>1</td></tr><tr><td>Harry Potter and the Half-Blood Prince (Harry Potter, #6)</td><td>4.54</td><td>275</td><td>644</td><td>1</td></tr><tr><td>Harry Potter and the Half-Blood Prince (Harry Potter, #6)</td><td>4.54</td><td>275</td><td>754</td><td>1</td></tr><tr><td>Harry Potter and the Half-Blood Prince (Harry Potter, #6)</td><td>4.54</td><td>275</td><td>826</td><td>1</td></tr><tr><td>Harry Potter and the Half-Blood Prince (Harry Potter, #6)</td><td>4.54</td><td>275</td><td>1043</td><td>1</td></tr><tr><td>Harry Potter and the Half-Blood Prince (Harry Potter, #6)</td><td>4.54</td><td>275</td><td>1205</td><td>1</td></tr><tr><td>Harry Potter and the Half-Blood Prince (Harry Potter, #6)</td><td>4.54</td><td>275</td><td>1442</td><td>1</td></tr><tr><td>Harry Potter and the Half-Blood Prince (Harry Potter, #6)</td><td>4.54</td><td>275</td><td>1470</td><td>1</td></tr><tr><td>Harry Potter and the Half-Blood Prince (Harry Potter, #6)</td><td>4.54</td><td>275</td><td>1712</td><td>1</td></tr><tr><td>Harry Potter and the Half-Blood Prince (Harry Potter, #6)</td><td>4.54</td><td>275</td><td>1814</td><td>1</td></tr><tr><td>Harry Potter and the Half-Blood Prince (Harry Potter, #6)</td><td>4.54</td><td>275</td><td>1919</td><td>1</td></tr><tr><td>Harry Potter and the Half-Blood Prince (Harry Potter, #6)</td><td>4.54</td><td>275</td><td>2051</td><td>1</td></tr><tr><td>Harry Potter and the Half-Blood Prince (Harry Potter, #6)</td><td>4.54</td><td>275</td><td>2052</td><td>1</td></tr><tr><td>Harry Potter and the Half-Blood Prince (Harry Potter, #6)</td><td>4.54</td><td>275</td><td>2158</td><td>1</td></tr><tr><td>Harry Potter and the Half-Blood Prince (Harry Potter, #6)</td><td>4.54</td><td>275</td><td>2160</td><td>1</td></tr><tr><td>Harry Potter and the Half-Blood Prince (Harry Potter, #6)</td><td>4.54</td><td>275</td><td>2345</td><td>1</td></tr><tr><td>Harry Potter and the Half-Blood Prince (Harry Potter, #6)</td><td>4.54</td><td>275</td><td>2476</td><td>1</td></tr><tr><td>Harry Potter and the Half-Blood Prince (Harry Potter, #6)</td><td>4.54</td><td>275</td><td>2523</td><td>1</td></tr><tr><td>Harry Potter and the Half-Blood Prince (Harry Potter, #6)</td><td>4.54</td><td>275</td><td>2623</td><td>1</td></tr><tr><td>Harry Potter and the Half-Blood Prince (Harry Potter, #6)</td><td>4.54</td><td>275</td><td>2673</td><td>1</td></tr></table>"
                    },
                    "metadata": {}
                }
            ],
            "execution_count": 5
        },
        {
            "cell_type": "markdown",
            "source": [
                "## **QUESTION 5:**  Using joins to find the most tagged book and the most popular tag\n",
                "\n",
                "We will be writing 3 queries to find both the most tagged book and that book's most popular tag.\n",
                "\n",
                "**Part A:**  What is the most tagged book?\n",
                "\n",
                "> <span style=\"background-color: rgba(127, 127, 127, 0.1); font-family: -apple-system, BlinkMacSystemFont, sans-serif;\">Start by joining the </span> **books** <span style=\"background-color: rgba(127, 127, 127, 0.1); font-family: -apple-system, BlinkMacSystemFont, sans-serif;\">and </span> **book\\_tags**   <span style=\"background-color: rgba(127, 127, 127, 0.1); font-family: -apple-system, BlinkMacSystemFont, sans-serif;\">&nbsp;tables ON the books.best_book_id and book_tags.goodreads_book_id.&nbsp;&nbsp;<br></span>    <span style=\"background-color: rgba(127, 127, 127, 0.1); font-family: -apple-system, BlinkMacSystemFont, sans-serif;\">We want the <i>most popular</i> book, so think about ordering the table in a way that will display both the book title and the number of times a book tag has been used.</span>\n",
                "> \n",
                "> _MInimum Desired output:_  The title of the most tagged book, and the number of times the book has been tagged.\n",
                "> \n",
                "> **Title: The Alchemist**\n",
                "\n",
                "**Part B:** How many different tags have been used for the most tagged book?\n",
                "\n",
                "> <span style=\"font-family: -apple-system, BlinkMacSystemFont, sans-serif; background-color: rgba(127, 127, 127, 0.1);\">Start by joining the&nbsp;</span>   **books** <span style=\"font-family: -apple-system, BlinkMacSystemFont, sans-serif; background-color: rgba(127, 127, 127, 0.1);\">and&nbsp;</span>   **book\\_tags**   <span style=\"font-family: -apple-system, BlinkMacSystemFont, sans-serif; background-color: rgba(127, 127, 127, 0.1);\">&nbsp;tables ON the books.best_book_id and book_tags.goodreads_book_id.&nbsp;&nbsp;<br></span>    We want to find the _most popular_ tag id, so think about ordering in a way that will display the most popular tag id.\n",
                "> \n",
                "> <span style=\"font-family: -apple-system, BlinkMacSystemFont, sans-serif; background-color: rgba(127, 127, 127, 0.1);\"><i>Minimum Desired Output:</i> The tag id for the most popular tag used for the most tagged book.&nbsp;</span>  \n",
                "> \n",
                "> <span style=\"font-family: -apple-system, BlinkMacSystemFont, sans-serif; background-color: rgba(127, 127, 127, 0.1);\"><b>Tag Id: 30574</b></span>\n",
                "\n",
                "<span style=\"font-family: -apple-system, BlinkMacSystemFont, sans-serif; background-color: rgba(127, 127, 127, 0.1);\"><b>Part C: </b>What is this particular tag?</span>\n",
                "\n",
                "> You may return this answer with a simple query.\n",
                "\n",
                "> <span style=\"font-family: -apple-system, BlinkMacSystemFont, sans-serif; background-color: rgba(127, 127, 127, 0.1);\"><i>Minimum Desired Output:</i>&nbsp;The tag name for the most popular tag used for the most tagged book.&nbsp;</span>  \n",
                "> \n",
                "> <span style=\"font-family: -apple-system, BlinkMacSystemFont, sans-serif; background-color: rgba(127, 127, 127, 0.1);\"><b>Tag Name: to-read</b></span>"
            ],
            "metadata": {
                "azdata_cell_guid": "a685e9cc-2ae2-40e8-8cc1-022c8064d66d"
            },
            "attachments": {}
        },
        {
            "cell_type": "code",
            "source": [
                "SELECT TOP 100 bt.tag_id, b.title, b.best_book_id, bt.count \r\n",
                "FROM BooksDB.dbo.books AS b \r\n",
                "INNER JOIN BooksDB.dbo.book_tags AS bt \r\n",
                "ON b.best_book_id = bt.goodreads_book_id \r\n",
                "ORDER BY bt.count DESC;"
            ],
            "metadata": {
                "azdata_cell_guid": "d39bcdc9-ec00-4c36-ba57-9078e44aef45",
                "language": "sql"
            },
            "outputs": [
                {
                    "output_type": "display_data",
                    "data": {
                        "text/html": "(100 rows affected)"
                    },
                    "metadata": {}
                },
                {
                    "output_type": "display_data",
                    "data": {
                        "text/html": "Total execution time: 00:00:00.562"
                    },
                    "metadata": {}
                },
                {
                    "output_type": "execute_result",
                    "execution_count": 5,
                    "data": {
                        "application/vnd.dataresource+json": {
                            "schema": {
                                "fields": [
                                    {
                                        "name": "tag_id"
                                    },
                                    {
                                        "name": "title"
                                    },
                                    {
                                        "name": "best_book_id"
                                    },
                                    {
                                        "name": "count"
                                    }
                                ]
                            },
                            "data": [
                                {
                                    "0": "30574",
                                    "1": "The Alchemist",
                                    "2": "865",
                                    "3": "596234"
                                },
                                {
                                    "0": "30574",
                                    "1": "The Girl with the Dragon Tattoo (Millennium, #1)",
                                    "2": "2429135",
                                    "3": "586235"
                                },
                                {
                                    "0": "30574",
                                    "1": "All the Light We Cannot See",
                                    "2": "18143977",
                                    "3": "505884"
                                },
                                {
                                    "0": "30574",
                                    "1": "Harry Potter and the Sorcerer's Stone (Harry Potter, #1)",
                                    "2": "3",
                                    "3": "496107"
                                },
                                {
                                    "0": "30574",
                                    "1": "Les Misérables",
                                    "2": "24280",
                                    "3": "488469"
                                },
                                {
                                    "0": "30574",
                                    "1": "Cinder (The Lunar Chronicles, #1)",
                                    "2": "11235712",
                                    "3": "474954"
                                },
                                {
                                    "0": "30574",
                                    "1": "Catch-22",
                                    "2": "168668",
                                    "3": "465640"
                                },
                                {
                                    "0": "30574",
                                    "1": "Gone with the Wind",
                                    "2": "18405",
                                    "3": "454565"
                                },
                                {
                                    "0": "30574",
                                    "1": "Slaughterhouse-Five",
                                    "2": "4981",
                                    "3": "443942"
                                },
                                {
                                    "0": "30574",
                                    "1": "A Tale of Two Cities",
                                    "2": "1953",
                                    "3": "402942"
                                },
                                {
                                    "0": "30574",
                                    "1": "The Maze Runner (Maze Runner, #1)",
                                    "2": "6186357",
                                    "3": "380255"
                                },
                                {
                                    "0": "30574",
                                    "1": "If I Stay (If I Stay, #1)",
                                    "2": "4374400",
                                    "3": "378509"
                                },
                                {
                                    "0": "30574",
                                    "1": "The Picture of Dorian Gray",
                                    "2": "5297",
                                    "3": "358381"
                                },
                                {
                                    "0": "30574",
                                    "1": "The Handmaid's Tale",
                                    "2": "38447",
                                    "3": "348218"
                                },
                                {
                                    "0": "30574",
                                    "1": "Little Women (Little Women, #1)",
                                    "2": "1934",
                                    "3": "345105"
                                },
                                {
                                    "0": "30574",
                                    "1": "Bossypants",
                                    "2": "9418327",
                                    "3": "332278"
                                },
                                {
                                    "0": "30574",
                                    "1": "The Tipping Point: How Little Things Can Make a Big Difference",
                                    "2": "2612",
                                    "3": "320295"
                                },
                                {
                                    "0": "30574",
                                    "1": "Room",
                                    "2": "7937843",
                                    "3": "302652"
                                },
                                {
                                    "0": "30574",
                                    "1": "Middlesex",
                                    "2": "2187",
                                    "3": "299006"
                                },
                                {
                                    "0": "30574",
                                    "1": "Dracula",
                                    "2": "17245",
                                    "3": "287576"
                                },
                                {
                                    "0": "30574",
                                    "1": "The Secret Life of Bees",
                                    "2": "37435",
                                    "3": "286899"
                                },
                                {
                                    "0": "30574",
                                    "1": "Yes Please",
                                    "2": "20910157",
                                    "3": "286059"
                                },
                                {
                                    "0": "30574",
                                    "1": "The Name of the Wind (The Kingkiller Chronicle, #1)",
                                    "2": "186074",
                                    "3": "283253"
                                },
                                {
                                    "0": "30574",
                                    "1": "The 7 Habits of Highly Effective People: Powerful Lessons in Personal Change",
                                    "2": "36072",
                                    "3": "283148"
                                },
                                {
                                    "0": "30574",
                                    "1": "Romeo and Juliet",
                                    "2": "18135",
                                    "3": "279627"
                                },
                                {
                                    "0": "30574",
                                    "1": "Ender's Game (Ender's Saga, #1)",
                                    "2": "375802",
                                    "3": "277113"
                                },
                                {
                                    "0": "30574",
                                    "1": "The Golden Compass (His Dark Materials, #1)",
                                    "2": "119322",
                                    "3": "276683"
                                },
                                {
                                    "0": "30574",
                                    "1": "The Nightingale",
                                    "2": "21853621",
                                    "3": "275551"
                                },
                                {
                                    "0": "30574",
                                    "1": "The 5th Wave (The 5th Wave, #1)",
                                    "2": "16101128",
                                    "3": "271738"
                                },
                                {
                                    "0": "30574",
                                    "1": "War and Peace",
                                    "2": "656",
                                    "3": "271642"
                                },
                                {
                                    "0": "30574",
                                    "1": "The Glass Castle",
                                    "2": "7445",
                                    "3": "260535"
                                },
                                {
                                    "0": "30574",
                                    "1": "Daughter of Smoke & Bone (Daughter of Smoke & Bone, #1)",
                                    "2": "8490112",
                                    "3": "255961"
                                },
                                {
                                    "0": "30574",
                                    "1": "Moby-Dick or, The Whale",
                                    "2": "153747",
                                    "3": "255686"
                                },
                                {
                                    "0": "30574",
                                    "1": "In the Woods (Dublin Murder Squad, #1)",
                                    "2": "237209",
                                    "3": "249532"
                                },
                                {
                                    "0": "30574",
                                    "1": "Harry Potter and the Cursed Child - Parts One and Two (Harry Potter, #8)",
                                    "2": "29056083",
                                    "3": "248603"
                                },
                                {
                                    "0": "30574",
                                    "1": "Wonder",
                                    "2": "11387515",
                                    "3": "248197"
                                },
                                {
                                    "0": "30574",
                                    "1": "Ready Player One",
                                    "2": "9969571",
                                    "3": "244228"
                                },
                                {
                                    "0": "30574",
                                    "1": "The Cuckoo's Calling (Cormoran Strike, #1)",
                                    "2": "16160797",
                                    "3": "241339"
                                },
                                {
                                    "0": "30574",
                                    "1": "Is Everyone Hanging Out Without Me? (And Other Concerns)",
                                    "2": "10335308",
                                    "3": "240537"
                                },
                                {
                                    "0": "30574",
                                    "1": "And Then There Were None",
                                    "2": "16299",
                                    "3": "238965"
                                },
                                {
                                    "0": "30574",
                                    "1": "The Odyssey",
                                    "2": "1381",
                                    "3": "238730"
                                },
                                {
                                    "0": "30574",
                                    "1": "Dune (Dune Chronicles #1)",
                                    "2": "234225",
                                    "3": "232155"
                                },
                                {
                                    "0": "30574",
                                    "1": "In Cold Blood",
                                    "2": "168642",
                                    "3": "231340"
                                },
                                {
                                    "0": "30574",
                                    "1": "A Wrinkle in Time (A Wrinkle in Time Quintet, #1)",
                                    "2": "18131",
                                    "3": "228455"
                                },
                                {
                                    "0": "30574",
                                    "1": "Great Expectations",
                                    "2": "2623",
                                    "3": "227548"
                                },
                                {
                                    "0": "30574",
                                    "1": "Allegiant (Divergent, #3)",
                                    "2": "18710190",
                                    "3": "225359"
                                },
                                {
                                    "0": "30574",
                                    "1": "Graceling (Graceling Realm, #1)",
                                    "2": "3236307",
                                    "3": "222895"
                                },
                                {
                                    "0": "30574",
                                    "1": "The Secret Garden",
                                    "2": "2998",
                                    "3": "222156"
                                },
                                {
                                    "0": "30574",
                                    "1": "A Tree Grows in Brooklyn",
                                    "2": "14891",
                                    "3": "220839"
                                },
                                {
                                    "0": "30574",
                                    "1": "Persuasion",
                                    "2": "2156",
                                    "3": "220502"
                                },
                                {
                                    "0": "30574",
                                    "1": "Across the Universe (Across the Universe, #1)",
                                    "2": "8235178",
                                    "3": "211797"
                                },
                                {
                                    "0": "30574",
                                    "1": "The Raven Boys (The Raven Cycle, #1)",
                                    "2": "17675462",
                                    "3": "208617"
                                },
                                {
                                    "0": "30574",
                                    "1": "11/22/63",
                                    "2": "10644930",
                                    "3": "206727"
                                },
                                {
                                    "0": "30574",
                                    "1": "The Light Between Oceans",
                                    "2": "13158800",
                                    "3": "205604"
                                },
                                {
                                    "0": "30574",
                                    "1": "Insurgent (Divergent, #2)",
                                    "2": "11735983",
                                    "3": "204393"
                                },
                                {
                                    "0": "30574",
                                    "1": "Perfect Chemistry (Perfect Chemistry, #1)",
                                    "2": "4268157",
                                    "3": "203586"
                                },
                                {
                                    "0": "30574",
                                    "1": "It's Kind of a Funny Story",
                                    "2": "248704",
                                    "3": "202218"
                                },
                                {
                                    "0": "30574",
                                    "1": "Will Grayson, Will Grayson",
                                    "2": "6567017",
                                    "3": "201350"
                                },
                                {
                                    "0": "30574",
                                    "1": "Six of Crows (Six of Crows, #1)",
                                    "2": "23437156",
                                    "3": "198698"
                                },
                                {
                                    "0": "30574",
                                    "1": "Man's Search for Meaning",
                                    "2": "4069",
                                    "3": "198532"
                                },
                                {
                                    "0": "30574",
                                    "1": "My Sister's Keeper",
                                    "2": "10917",
                                    "3": "197630"
                                },
                                {
                                    "0": "30574",
                                    "1": "Red Rising (Red Rising, #1)",
                                    "2": "15839976",
                                    "3": "191615"
                                },
                                {
                                    "0": "30574",
                                    "1": "The Shadow of the Wind (The Cemetery of Forgotten Books,  #1)",
                                    "2": "1232",
                                    "3": "190891"
                                },
                                {
                                    "0": "30574",
                                    "1": "A Court of Thorns and Roses (A Court of Thorns and Roses, #1)",
                                    "2": "16096824",
                                    "3": "188981"
                                },
                                {
                                    "0": "30574",
                                    "1": "Unwind (Unwind, #1)",
                                    "2": "764347",
                                    "3": "187025"
                                },
                                {
                                    "0": "30574",
                                    "1": "When Breath Becomes Air",
                                    "2": "25899336",
                                    "3": "184635"
                                },
                                {
                                    "0": "30574",
                                    "1": "The Boy in the Striped Pajamas",
                                    "2": "39999",
                                    "3": "182087"
                                },
                                {
                                    "0": "30574",
                                    "1": "The Giving Tree",
                                    "2": "370493",
                                    "3": "181787"
                                },
                                {
                                    "0": "30574",
                                    "1": "The Underground Railroad",
                                    "2": "30555488",
                                    "3": "177759"
                                },
                                {
                                    "0": "30574",
                                    "1": "Girl with a Pearl Earring",
                                    "2": "2865",
                                    "3": "177278"
                                },
                                {
                                    "0": "30574",
                                    "1": "Stardust",
                                    "2": "16793",
                                    "3": "177061"
                                },
                                {
                                    "0": "30574",
                                    "1": "Everything, Everything",
                                    "2": "18692431",
                                    "3": "175234"
                                },
                                {
                                    "0": "30574",
                                    "1": "Speak",
                                    "2": "439288",
                                    "3": "175206"
                                },
                                {
                                    "0": "30574",
                                    "1": "The Devil Wears Prada (The Devil Wears Prada, #1)",
                                    "2": "5139",
                                    "3": "173514"
                                },
                                {
                                    "0": "30574",
                                    "1": "John Adams",
                                    "2": "2203",
                                    "3": "172823"
                                },
                                {
                                    "0": "30574",
                                    "1": "Three Cups of Tea: One Man's Mission to Promote Peace ... One School at a Time",
                                    "2": "49436",
                                    "3": "171855"
                                },
                                {
                                    "0": "30574",
                                    "1": "City of Heavenly Fire (The Mortal Instruments, #6)",
                                    "2": "8755785",
                                    "3": "171251"
                                },
                                {
                                    "0": "30574",
                                    "1": "The Unbearable Lightness of Being",
                                    "2": "9717",
                                    "3": "170503"
                                },
                                {
                                    "0": "30574",
                                    "1": "Easy (Contours of the Heart, #1)",
                                    "2": "16056408",
                                    "3": "170119"
                                },
                                {
                                    "0": "30574",
                                    "1": "The Stand",
                                    "2": "149267",
                                    "3": "168898"
                                },
                                {
                                    "0": "30574",
                                    "1": "Harry Potter and the Half-Blood Prince (Harry Potter, #6)",
                                    "2": "1",
                                    "3": "167697"
                                },
                                {
                                    "0": "30574",
                                    "1": "Attachments",
                                    "2": "8909152",
                                    "3": "167644"
                                },
                                {
                                    "0": "30574",
                                    "1": "A People's History of the United States",
                                    "2": "2767",
                                    "3": "166850"
                                },
                                {
                                    "0": "30574",
                                    "1": "Siddhartha",
                                    "2": "52036",
                                    "3": "166101"
                                },
                                {
                                    "0": "30574",
                                    "1": "Station Eleven",
                                    "2": "20170404",
                                    "3": "165591"
                                },
                                {
                                    "0": "30574",
                                    "1": "A Dance with Dragons (A Song of Ice and Fire, #5)",
                                    "2": "10664113",
                                    "3": "163132"
                                },
                                {
                                    "0": "30574",
                                    "1": "Cat's Cradle",
                                    "2": "135479",
                                    "3": "161030"
                                },
                                {
                                    "0": "30574",
                                    "1": "House of Leaves",
                                    "2": "24800",
                                    "3": "160824"
                                },
                                {
                                    "0": "30574",
                                    "1": "My Life Next Door",
                                    "2": "12294652",
                                    "3": "160518"
                                },
                                {
                                    "0": "30574",
                                    "1": "All the Ugly and Wonderful Things",
                                    "2": "26114135",
                                    "3": "159524"
                                },
                                {
                                    "0": "30574",
                                    "1": "1Q84",
                                    "2": "10357575",
                                    "3": "158754"
                                },
                                {
                                    "0": "30574",
                                    "1": "Dear John",
                                    "2": "5526",
                                    "3": "158655"
                                },
                                {
                                    "0": "30574",
                                    "1": "Clockwork Prince (The Infernal Devices, #2)",
                                    "2": "10025305",
                                    "3": "156839"
                                },
                                {
                                    "0": "30574",
                                    "1": "Inferno (Robert Langdon, #4)",
                                    "2": "17212231",
                                    "3": "155961"
                                },
                                {
                                    "0": "30574",
                                    "1": "On the Road",
                                    "2": "70401",
                                    "3": "155810"
                                },
                                {
                                    "0": "30574",
                                    "1": "The Time Machine",
                                    "2": "2493",
                                    "3": "155806"
                                },
                                {
                                    "0": "30574",
                                    "1": "City of Ashes (The Mortal Instruments, #2)",
                                    "2": "1582996",
                                    "3": "149747"
                                },
                                {
                                    "0": "30574",
                                    "1": "Orphan Train",
                                    "2": "15818107",
                                    "3": "147588"
                                },
                                {
                                    "0": "30574",
                                    "1": "Running with Scissors",
                                    "2": "242006",
                                    "3": "147245"
                                },
                                {
                                    "0": "30574",
                                    "1": "Dark Lover (Black Dagger Brotherhood, #1)",
                                    "2": "42899",
                                    "3": "147190"
                                }
                            ]
                        },
                        "text/html": "<table><tr><th>tag_id</th><th>title</th><th>best_book_id</th><th>count</th></tr><tr><td>30574</td><td>The Alchemist</td><td>865</td><td>596234</td></tr><tr><td>30574</td><td>The Girl with the Dragon Tattoo (Millennium, #1)</td><td>2429135</td><td>586235</td></tr><tr><td>30574</td><td>All the Light We Cannot See</td><td>18143977</td><td>505884</td></tr><tr><td>30574</td><td>Harry Potter and the Sorcerer's Stone (Harry Potter, #1)</td><td>3</td><td>496107</td></tr><tr><td>30574</td><td>Les Misérables</td><td>24280</td><td>488469</td></tr><tr><td>30574</td><td>Cinder (The Lunar Chronicles, #1)</td><td>11235712</td><td>474954</td></tr><tr><td>30574</td><td>Catch-22</td><td>168668</td><td>465640</td></tr><tr><td>30574</td><td>Gone with the Wind</td><td>18405</td><td>454565</td></tr><tr><td>30574</td><td>Slaughterhouse-Five</td><td>4981</td><td>443942</td></tr><tr><td>30574</td><td>A Tale of Two Cities</td><td>1953</td><td>402942</td></tr><tr><td>30574</td><td>The Maze Runner (Maze Runner, #1)</td><td>6186357</td><td>380255</td></tr><tr><td>30574</td><td>If I Stay (If I Stay, #1)</td><td>4374400</td><td>378509</td></tr><tr><td>30574</td><td>The Picture of Dorian Gray</td><td>5297</td><td>358381</td></tr><tr><td>30574</td><td>The Handmaid's Tale</td><td>38447</td><td>348218</td></tr><tr><td>30574</td><td>Little Women (Little Women, #1)</td><td>1934</td><td>345105</td></tr><tr><td>30574</td><td>Bossypants</td><td>9418327</td><td>332278</td></tr><tr><td>30574</td><td>The Tipping Point: How Little Things Can Make a Big Difference</td><td>2612</td><td>320295</td></tr><tr><td>30574</td><td>Room</td><td>7937843</td><td>302652</td></tr><tr><td>30574</td><td>Middlesex</td><td>2187</td><td>299006</td></tr><tr><td>30574</td><td>Dracula</td><td>17245</td><td>287576</td></tr><tr><td>30574</td><td>The Secret Life of Bees</td><td>37435</td><td>286899</td></tr><tr><td>30574</td><td>Yes Please</td><td>20910157</td><td>286059</td></tr><tr><td>30574</td><td>The Name of the Wind (The Kingkiller Chronicle, #1)</td><td>186074</td><td>283253</td></tr><tr><td>30574</td><td>The 7 Habits of Highly Effective People: Powerful Lessons in Personal Change</td><td>36072</td><td>283148</td></tr><tr><td>30574</td><td>Romeo and Juliet</td><td>18135</td><td>279627</td></tr><tr><td>30574</td><td>Ender's Game (Ender's Saga, #1)</td><td>375802</td><td>277113</td></tr><tr><td>30574</td><td>The Golden Compass (His Dark Materials, #1)</td><td>119322</td><td>276683</td></tr><tr><td>30574</td><td>The Nightingale</td><td>21853621</td><td>275551</td></tr><tr><td>30574</td><td>The 5th Wave (The 5th Wave, #1)</td><td>16101128</td><td>271738</td></tr><tr><td>30574</td><td>War and Peace</td><td>656</td><td>271642</td></tr><tr><td>30574</td><td>The Glass Castle</td><td>7445</td><td>260535</td></tr><tr><td>30574</td><td>Daughter of Smoke &amp; Bone (Daughter of Smoke &amp; Bone, #1)</td><td>8490112</td><td>255961</td></tr><tr><td>30574</td><td>Moby-Dick or, The Whale</td><td>153747</td><td>255686</td></tr><tr><td>30574</td><td>In the Woods (Dublin Murder Squad, #1)</td><td>237209</td><td>249532</td></tr><tr><td>30574</td><td>Harry Potter and the Cursed Child - Parts One and Two (Harry Potter, #8)</td><td>29056083</td><td>248603</td></tr><tr><td>30574</td><td>Wonder</td><td>11387515</td><td>248197</td></tr><tr><td>30574</td><td>Ready Player One</td><td>9969571</td><td>244228</td></tr><tr><td>30574</td><td>The Cuckoo's Calling (Cormoran Strike, #1)</td><td>16160797</td><td>241339</td></tr><tr><td>30574</td><td>Is Everyone Hanging Out Without Me? (And Other Concerns)</td><td>10335308</td><td>240537</td></tr><tr><td>30574</td><td>And Then There Were None</td><td>16299</td><td>238965</td></tr><tr><td>30574</td><td>The Odyssey</td><td>1381</td><td>238730</td></tr><tr><td>30574</td><td>Dune (Dune Chronicles #1)</td><td>234225</td><td>232155</td></tr><tr><td>30574</td><td>In Cold Blood</td><td>168642</td><td>231340</td></tr><tr><td>30574</td><td>A Wrinkle in Time (A Wrinkle in Time Quintet, #1)</td><td>18131</td><td>228455</td></tr><tr><td>30574</td><td>Great Expectations</td><td>2623</td><td>227548</td></tr><tr><td>30574</td><td>Allegiant (Divergent, #3)</td><td>18710190</td><td>225359</td></tr><tr><td>30574</td><td>Graceling (Graceling Realm, #1)</td><td>3236307</td><td>222895</td></tr><tr><td>30574</td><td>The Secret Garden</td><td>2998</td><td>222156</td></tr><tr><td>30574</td><td>A Tree Grows in Brooklyn</td><td>14891</td><td>220839</td></tr><tr><td>30574</td><td>Persuasion</td><td>2156</td><td>220502</td></tr><tr><td>30574</td><td>Across the Universe (Across the Universe, #1)</td><td>8235178</td><td>211797</td></tr><tr><td>30574</td><td>The Raven Boys (The Raven Cycle, #1)</td><td>17675462</td><td>208617</td></tr><tr><td>30574</td><td>11/22/63</td><td>10644930</td><td>206727</td></tr><tr><td>30574</td><td>The Light Between Oceans</td><td>13158800</td><td>205604</td></tr><tr><td>30574</td><td>Insurgent (Divergent, #2)</td><td>11735983</td><td>204393</td></tr><tr><td>30574</td><td>Perfect Chemistry (Perfect Chemistry, #1)</td><td>4268157</td><td>203586</td></tr><tr><td>30574</td><td>It's Kind of a Funny Story</td><td>248704</td><td>202218</td></tr><tr><td>30574</td><td>Will Grayson, Will Grayson</td><td>6567017</td><td>201350</td></tr><tr><td>30574</td><td>Six of Crows (Six of Crows, #1)</td><td>23437156</td><td>198698</td></tr><tr><td>30574</td><td>Man's Search for Meaning</td><td>4069</td><td>198532</td></tr><tr><td>30574</td><td>My Sister's Keeper</td><td>10917</td><td>197630</td></tr><tr><td>30574</td><td>Red Rising (Red Rising, #1)</td><td>15839976</td><td>191615</td></tr><tr><td>30574</td><td>The Shadow of the Wind (The Cemetery of Forgotten Books,  #1)</td><td>1232</td><td>190891</td></tr><tr><td>30574</td><td>A Court of Thorns and Roses (A Court of Thorns and Roses, #1)</td><td>16096824</td><td>188981</td></tr><tr><td>30574</td><td>Unwind (Unwind, #1)</td><td>764347</td><td>187025</td></tr><tr><td>30574</td><td>When Breath Becomes Air</td><td>25899336</td><td>184635</td></tr><tr><td>30574</td><td>The Boy in the Striped Pajamas</td><td>39999</td><td>182087</td></tr><tr><td>30574</td><td>The Giving Tree</td><td>370493</td><td>181787</td></tr><tr><td>30574</td><td>The Underground Railroad</td><td>30555488</td><td>177759</td></tr><tr><td>30574</td><td>Girl with a Pearl Earring</td><td>2865</td><td>177278</td></tr><tr><td>30574</td><td>Stardust</td><td>16793</td><td>177061</td></tr><tr><td>30574</td><td>Everything, Everything</td><td>18692431</td><td>175234</td></tr><tr><td>30574</td><td>Speak</td><td>439288</td><td>175206</td></tr><tr><td>30574</td><td>The Devil Wears Prada (The Devil Wears Prada, #1)</td><td>5139</td><td>173514</td></tr><tr><td>30574</td><td>John Adams</td><td>2203</td><td>172823</td></tr><tr><td>30574</td><td>Three Cups of Tea: One Man's Mission to Promote Peace ... One School at a Time</td><td>49436</td><td>171855</td></tr><tr><td>30574</td><td>City of Heavenly Fire (The Mortal Instruments, #6)</td><td>8755785</td><td>171251</td></tr><tr><td>30574</td><td>The Unbearable Lightness of Being</td><td>9717</td><td>170503</td></tr><tr><td>30574</td><td>Easy (Contours of the Heart, #1)</td><td>16056408</td><td>170119</td></tr><tr><td>30574</td><td>The Stand</td><td>149267</td><td>168898</td></tr><tr><td>30574</td><td>Harry Potter and the Half-Blood Prince (Harry Potter, #6)</td><td>1</td><td>167697</td></tr><tr><td>30574</td><td>Attachments</td><td>8909152</td><td>167644</td></tr><tr><td>30574</td><td>A People's History of the United States</td><td>2767</td><td>166850</td></tr><tr><td>30574</td><td>Siddhartha</td><td>52036</td><td>166101</td></tr><tr><td>30574</td><td>Station Eleven</td><td>20170404</td><td>165591</td></tr><tr><td>30574</td><td>A Dance with Dragons (A Song of Ice and Fire, #5)</td><td>10664113</td><td>163132</td></tr><tr><td>30574</td><td>Cat's Cradle</td><td>135479</td><td>161030</td></tr><tr><td>30574</td><td>House of Leaves</td><td>24800</td><td>160824</td></tr><tr><td>30574</td><td>My Life Next Door</td><td>12294652</td><td>160518</td></tr><tr><td>30574</td><td>All the Ugly and Wonderful Things</td><td>26114135</td><td>159524</td></tr><tr><td>30574</td><td>1Q84</td><td>10357575</td><td>158754</td></tr><tr><td>30574</td><td>Dear John</td><td>5526</td><td>158655</td></tr><tr><td>30574</td><td>Clockwork Prince (The Infernal Devices, #2)</td><td>10025305</td><td>156839</td></tr><tr><td>30574</td><td>Inferno (Robert Langdon, #4)</td><td>17212231</td><td>155961</td></tr><tr><td>30574</td><td>On the Road</td><td>70401</td><td>155810</td></tr><tr><td>30574</td><td>The Time Machine</td><td>2493</td><td>155806</td></tr><tr><td>30574</td><td>City of Ashes (The Mortal Instruments, #2)</td><td>1582996</td><td>149747</td></tr><tr><td>30574</td><td>Orphan Train</td><td>15818107</td><td>147588</td></tr><tr><td>30574</td><td>Running with Scissors</td><td>242006</td><td>147245</td></tr><tr><td>30574</td><td>Dark Lover (Black Dagger Brotherhood, #1)</td><td>42899</td><td>147190</td></tr></table>"
                    },
                    "metadata": {}
                }
            ],
            "execution_count": 5
        },
        {
            "cell_type": "code",
            "source": [
                "SELECT tag_id, tag_name\r\n",
                "FROM BooksDB.dbo.tags\r\n",
                "WHERE tag_id = '30574';"
            ],
            "metadata": {
                "language": "sql",
                "azdata_cell_guid": "b087d172-7591-4d65-9950-d58996d65f11"
            },
            "outputs": [
                {
                    "output_type": "display_data",
                    "data": {
                        "text/html": "(1 row affected)"
                    },
                    "metadata": {}
                },
                {
                    "output_type": "display_data",
                    "data": {
                        "text/html": "Total execution time: 00:00:00.048"
                    },
                    "metadata": {}
                },
                {
                    "output_type": "execute_result",
                    "execution_count": 7,
                    "data": {
                        "application/vnd.dataresource+json": {
                            "schema": {
                                "fields": [
                                    {
                                        "name": "tag_id"
                                    },
                                    {
                                        "name": "tag_name"
                                    }
                                ]
                            },
                            "data": [
                                {
                                    "0": "30574",
                                    "1": "to-read"
                                }
                            ]
                        },
                        "text/html": "<table><tr><th>tag_id</th><th>tag_name</th></tr><tr><td>30574</td><td>to-read</td></tr></table>"
                    },
                    "metadata": {}
                }
            ],
            "execution_count": 7
        },
        {
            "cell_type": "code",
            "source": [
                "-- Code Here:\r\n",
                "-- SELECT TOP 10 COUNT(tr.user_id), b.title, tr.user_id\r\n",
                "-- FROM BooksDB.dbo.books AS b\r\n",
                "-- LEFT JOIN BooksDB.dbo.to_read AS tr\r\n",
                "-- ON b.book_id = tr.book_id\r\n",
                "-- GROUP BY b.title"
            ],
            "metadata": {
                "azdata_cell_guid": "de3ac253-6b47-4740-8c6e-5f9d1b0ce36b",
                "language": "sql",
                "tags": []
            },
            "outputs": [
                {
                    "output_type": "error",
                    "ename": "",
                    "evalue": "Msg 8120, Level 16, State 1, Line 2\r\nColumn 'BooksDB.dbo.to_read.user_id' is invalid in the select list because it is not contained in either an aggregate function or the GROUP BY clause.",
                    "traceback": []
                },
                {
                    "output_type": "display_data",
                    "data": {
                        "text/html": "Total execution time: 00:00:00.041"
                    },
                    "metadata": {}
                }
            ],
            "execution_count": 8
        },
        {
            "cell_type": "markdown",
            "source": [
                "## **QUESTION 6:** Find a book based on a tag of your choice using joins.\n",
                "\n",
                "Some suggestions: any hobbies you like? baking, drawing, etc. how about favorite holidays, subjects, animals, etc?\n",
                "\n",
                "**Part A:** Explore the tags table for a tag of your choice.  Suggested ideas, try searching for one of your hobbies, a favorite time of year, favorite animal, etc.  Start by querying the tag table for your chosen tag.  (_Hint:_ in order to make sure you find all combinations of your tags, use the wildcard).  If your query returns more than one result, pick your favorite.\n",
                "\n",
                "> > _Here is an example.  Alyce wanted to search for halloween books.  She used the wildcard, '%halloween%' and 8 different combinations were found.  Alyce selected '**halloween-storytime**', with a tag id of 13877._\n",
                "\n",
                "> _Minimum Desired Output:_ <span style=\"font-family: -apple-system, BlinkMacSystemFont, sans-serif; background-color: rgba(127, 127, 127, 0.1);\">tag name and tag id</span>\n",
                "\n",
                "> **Your Tag and Tag Id:  tag\\_name: alien-and-magic , tag\\_id: 2057**\n",
                "\n",
                "**Part B:** Now that you have the **tag id**, find the title that was tagged the most with this tag by joining the books and books\\_tags tables.\n",
                "\n",
                "> > _Alyce joined the book table with the tags table and discovered that <u>The Little Old Lady Who Was Not Afraid of Anything</u> was tagged as '**halloween-storytime**' the most._\n",
                "\n",
                "> _Minimum Desired Output:_ <span style=\"background-color: rgba(127, 127, 127, 0.1); font-family: -apple-system, BlinkMacSystemFont, sans-serif;\">title and tag count</span>\n",
                "\n",
                "> **Your Title and Number of times the tag was used:**"
            ],
            "metadata": {
                "azdata_cell_guid": "df783e7e-3aff-4e63-9edb-f2e729c7d1c8"
            },
            "attachments": {}
        },
        {
            "cell_type": "code",
            "source": [
                "-- Code Here:\r\n",
                "SELECT b.title, COUNT(t.tag_name)\r\n",
                "FROM BooksDB.dbo.tags AS t\r\n",
                "INNER JOIN BooksDB.dbo.books AS b \r\n",
                "ON t.tag_id = b.book_id\r\n",
                "WHERE t.tag_name LIKE '%alien%'\r\n",
                "GROUP BY t.tag_name\n",
                "HAVING ;"
            ],
            "metadata": {
                "azdata_cell_guid": "c4b0b67c-7cfa-4f52-be97-ffe5cc28ed54",
                "tags": [],
                "language": "sql"
            },
            "outputs": [
                {
                    "output_type": "error",
                    "ename": "",
                    "evalue": "Msg 8120, Level 16, State 1, Line 2\r\nColumn 'BooksDB.dbo.books.title' is invalid in the select list because it is not contained in either an aggregate function or the GROUP BY clause.",
                    "traceback": []
                },
                {
                    "output_type": "display_data",
                    "data": {
                        "text/html": "Total execution time: 00:00:00.042"
                    },
                    "metadata": {}
                }
            ],
            "execution_count": 11
        },
        {
            "cell_type": "markdown",
            "source": [
                "## **QUESTION 7:** What are the top 10 most popular book titles on the 'to read' list?\n",
                "\n",
                "**Part A:**  Explore how the **to\\_read** and **books** tables are organized, and then join them.  What will you use as a key?\n",
                "\n",
                "> Your Answer: join them by tr.book\\_id and the b.book\\_id\n",
                "\n",
                "**Part B:** Organize your newly joined table in a way that groups popularity based on the title based on users.\n",
                "\n",
                "> _Hint:_ Suggest using an alias for the aggregation you will need to run on the **user\\_id**\n",
                "\n",
                "> _Minimum Desired Output:_ title and aliased column"
            ],
            "metadata": {
                "azdata_cell_guid": "4e5349b7-24f6-481a-9d88-bb4f86abc624"
            },
            "attachments": {}
        },
        {
            "cell_type": "code",
            "source": [
                "-- Code Here:\r\n",
                "SELECT top 10 *\r\n",
                "FROM BooksDB.dbo.to_read\r\n",
                "where book_id = 8;\r\n",
                ""
            ],
            "metadata": {
                "azdata_cell_guid": "8af25df1-ce61-4152-8198-0b53c17642d0",
                "language": "sql"
            },
            "outputs": [
                {
                    "output_type": "display_data",
                    "data": {
                        "text/html": "(10 rows affected)"
                    },
                    "metadata": {}
                },
                {
                    "output_type": "display_data",
                    "data": {
                        "text/html": "Total execution time: 00:00:00.033"
                    },
                    "metadata": {}
                },
                {
                    "output_type": "execute_result",
                    "metadata": {},
                    "execution_count": 16,
                    "data": {
                        "application/vnd.dataresource+json": {
                            "schema": {
                                "fields": [
                                    {
                                        "name": "user_id"
                                    },
                                    {
                                        "name": "book_id"
                                    }
                                ]
                            },
                            "data": [
                                {
                                    "0": "9",
                                    "1": "8"
                                },
                                {
                                    "0": "245",
                                    "1": "8"
                                },
                                {
                                    "0": "265",
                                    "1": "8"
                                },
                                {
                                    "0": "318",
                                    "1": "8"
                                },
                                {
                                    "0": "361",
                                    "1": "8"
                                },
                                {
                                    "0": "422",
                                    "1": "8"
                                },
                                {
                                    "0": "435",
                                    "1": "8"
                                },
                                {
                                    "0": "457",
                                    "1": "8"
                                },
                                {
                                    "0": "615",
                                    "1": "8"
                                },
                                {
                                    "0": "654",
                                    "1": "8"
                                }
                            ]
                        },
                        "text/html": [
                            "<table>",
                            "<tr><th>user_id</th><th>book_id</th></tr>",
                            "<tr><td>9</td><td>8</td></tr>",
                            "<tr><td>245</td><td>8</td></tr>",
                            "<tr><td>265</td><td>8</td></tr>",
                            "<tr><td>318</td><td>8</td></tr>",
                            "<tr><td>361</td><td>8</td></tr>",
                            "<tr><td>422</td><td>8</td></tr>",
                            "<tr><td>435</td><td>8</td></tr>",
                            "<tr><td>457</td><td>8</td></tr>",
                            "<tr><td>615</td><td>8</td></tr>",
                            "<tr><td>654</td><td>8</td></tr>",
                            "</table>"
                        ]
                    }
                }
            ],
            "execution_count": 16
        },
        {
            "cell_type": "code",
            "source": [
                "SELECT top 10 *\r\n",
                "FROM BooksDB.dbo.books\r\n",
                "where book_id = 8;"
            ],
            "metadata": {
                "language": "sql",
                "azdata_cell_guid": "6a6a256c-e317-4929-bab6-dbab4f3c40fb",
                "tags": []
            },
            "outputs": [
                {
                    "output_type": "display_data",
                    "data": {
                        "text/html": "(1 row affected)"
                    },
                    "metadata": {}
                },
                {
                    "output_type": "display_data",
                    "data": {
                        "text/html": "Total execution time: 00:00:00.040"
                    },
                    "metadata": {}
                },
                {
                    "output_type": "execute_result",
                    "metadata": {},
                    "execution_count": 12,
                    "data": {
                        "application/vnd.dataresource+json": {
                            "schema": {
                                "fields": [
                                    {
                                        "name": "id"
                                    },
                                    {
                                        "name": "book_id"
                                    },
                                    {
                                        "name": "best_book_id"
                                    },
                                    {
                                        "name": "work_id"
                                    },
                                    {
                                        "name": "books_count"
                                    },
                                    {
                                        "name": "isbn"
                                    },
                                    {
                                        "name": "isbn13"
                                    },
                                    {
                                        "name": "authors"
                                    },
                                    {
                                        "name": "original_publication_year"
                                    },
                                    {
                                        "name": "original_title"
                                    },
                                    {
                                        "name": "title"
                                    },
                                    {
                                        "name": "language_code"
                                    },
                                    {
                                        "name": "average_rating"
                                    },
                                    {
                                        "name": "ratings_count"
                                    },
                                    {
                                        "name": "work_ratings_count"
                                    },
                                    {
                                        "name": "work_text_reviews_count"
                                    },
                                    {
                                        "name": "ratings_1"
                                    },
                                    {
                                        "name": "ratings_2"
                                    },
                                    {
                                        "name": "ratings_3"
                                    },
                                    {
                                        "name": "ratings_4"
                                    },
                                    {
                                        "name": "ratings_5"
                                    },
                                    {
                                        "name": "image_url"
                                    },
                                    {
                                        "name": "small_image_url"
                                    }
                                ]
                            },
                            "data": [
                                {
                                    "0": "3275",
                                    "1": "8",
                                    "2": "8",
                                    "3": "21457576",
                                    "4": "11",
                                    "5": "439682584",
                                    "6": "9780439682590",
                                    "7": "J.K. Rowling, Mary GrandPré",
                                    "8": "2003",
                                    "9": "NULL",
                                    "10": "Harry Potter Boxed Set, Books 1-5 (Harry Potter, #1-5)",
                                    "11": "eng",
                                    "12": "4.77",
                                    "13": "33220",
                                    "14": "33424",
                                    "15": "156",
                                    "16": "317",
                                    "17": "233",
                                    "18": "978",
                                    "19": "3686",
                                    "20": "28210",
                                    "21": "https://s.gr-assets.com/assets/nophoto/book/111x148-bcc042a9c91a29c1d680899eff700a03.png",
                                    "22": "https://s.gr-assets.com/assets/nophoto/book/50x75-a91bf249278a81aabab721ef782c4a74.png"
                                }
                            ]
                        },
                        "text/html": [
                            "<table>",
                            "<tr><th>id</th><th>book_id</th><th>best_book_id</th><th>work_id</th><th>books_count</th><th>isbn</th><th>isbn13</th><th>authors</th><th>original_publication_year</th><th>original_title</th><th>title</th><th>language_code</th><th>average_rating</th><th>ratings_count</th><th>work_ratings_count</th><th>work_text_reviews_count</th><th>ratings_1</th><th>ratings_2</th><th>ratings_3</th><th>ratings_4</th><th>ratings_5</th><th>image_url</th><th>small_image_url</th></tr>",
                            "<tr><td>3275</td><td>8</td><td>8</td><td>21457576</td><td>11</td><td>439682584</td><td>9780439682590</td><td>J.K. Rowling, Mary GrandPré</td><td>2003</td><td>NULL</td><td>Harry Potter Boxed Set, Books 1-5 (Harry Potter, #1-5)</td><td>eng</td><td>4.77</td><td>33220</td><td>33424</td><td>156</td><td>317</td><td>233</td><td>978</td><td>3686</td><td>28210</td><td>https://s.gr-assets.com/assets/nophoto/book/111x148-bcc042a9c91a29c1d680899eff700a03.png</td><td>https://s.gr-assets.com/assets/nophoto/book/50x75-a91bf249278a81aabab721ef782c4a74.png</td></tr>",
                            "</table>"
                        ]
                    }
                }
            ],
            "execution_count": 12
        },
        {
            "cell_type": "code",
            "source": [
                "SELECT top 10 b.title, count(tr.user_id) as reading_list_cnt\r\n",
                "FROM BooksDB.dbo.to_read AS tr\r\n",
                "inner JOIN BooksDB.dbo.books AS b \r\n",
                "ON tr.book_id = b.book_id\r\n",
                "GROUP BY b.title\r\n",
                "order by reading_list_cnt desc\r\n",
                "\r\n",
                "\r\n",
                ";"
            ],
            "metadata": {
                "language": "sql",
                "azdata_cell_guid": "67374cf1-555a-400f-8fb6-91e8255385d1",
                "tags": []
            },
            "outputs": [
                {
                    "output_type": "display_data",
                    "data": {
                        "text/html": "(10 rows affected)"
                    },
                    "metadata": {}
                },
                {
                    "output_type": "display_data",
                    "data": {
                        "text/html": "Total execution time: 00:00:00.166"
                    },
                    "metadata": {}
                },
                {
                    "output_type": "execute_result",
                    "metadata": {},
                    "execution_count": 27,
                    "data": {
                        "application/vnd.dataresource+json": {
                            "schema": {
                                "fields": [
                                    {
                                        "name": "title"
                                    },
                                    {
                                        "name": "reading_list_cnt"
                                    }
                                ]
                            },
                            "data": [
                                {
                                    "0": "The Ultimate Hitchhiker's Guide to the Galaxy",
                                    "1": "1812"
                                },
                                {
                                    "0": "The Hitchhiker's Guide to the Galaxy (Hitchhiker's Guide to the Galaxy, #1)",
                                    "1": "1767"
                                },
                                {
                                    "0": "The Lord of the Rings: The Art of The Fellowship of the Ring",
                                    "1": "1499"
                                },
                                {
                                    "0": "Harry Potter Boxed Set, Books 1-5 (Harry Potter, #1-5)",
                                    "1": "1498"
                                },
                                {
                                    "0": "Harry Potter and the Goblet of Fire (Harry Potter, #4)",
                                    "1": "1484"
                                },
                                {
                                    "0": "The Known World",
                                    "1": "1352"
                                },
                                {
                                    "0": "Harry Potter and the Prisoner of Azkaban (Harry Potter, #3)",
                                    "1": "1293"
                                },
                                {
                                    "0": "The Lord of the Rings: Weapons and Warfare",
                                    "1": "1211"
                                },
                                {
                                    "0": "Notes from a Small Island",
                                    "1": "1148"
                                },
                                {
                                    "0": "Harry Potter Collection (Harry Potter, #1-6)",
                                    "1": "1110"
                                }
                            ]
                        },
                        "text/html": [
                            "<table>",
                            "<tr><th>title</th><th>reading_list_cnt</th></tr>",
                            "<tr><td>The Ultimate Hitchhiker's Guide to the Galaxy</td><td>1812</td></tr>",
                            "<tr><td>The Hitchhiker's Guide to the Galaxy (Hitchhiker's Guide to the Galaxy, #1)</td><td>1767</td></tr>",
                            "<tr><td>The Lord of the Rings: The Art of The Fellowship of the Ring</td><td>1499</td></tr>",
                            "<tr><td>Harry Potter Boxed Set, Books 1-5 (Harry Potter, #1-5)</td><td>1498</td></tr>",
                            "<tr><td>Harry Potter and the Goblet of Fire (Harry Potter, #4)</td><td>1484</td></tr>",
                            "<tr><td>The Known World</td><td>1352</td></tr>",
                            "<tr><td>Harry Potter and the Prisoner of Azkaban (Harry Potter, #3)</td><td>1293</td></tr>",
                            "<tr><td>The Lord of the Rings: Weapons and Warfare</td><td>1211</td></tr>",
                            "<tr><td>Notes from a Small Island</td><td>1148</td></tr>",
                            "<tr><td>Harry Potter Collection (Harry Potter, #1-6)</td><td>1110</td></tr>",
                            "</table>"
                        ]
                    }
                }
            ],
            "execution_count": 27
        },
        {
            "cell_type": "markdown",
            "source": [
                "## **QUESTION 8:** Largest 'To Read' Lists\n",
                "\n",
                "**Part A:**  Create a query that returns a table that contains the top 10 users with the most number of titles on their 'to read' list.    Group all the entries by user\\_id.  \n",
                "\n",
                "> _Hint:_ You might want an alias for the titles.\n",
                "> \n",
                "> _Minimum Desired Output:_  user\\_id and your aliased column of titles.\n",
                "\n",
                "**Part B:**  The longest list length is 15 titles total, and is shared by 4 different users.  Select one of the uses and print out their entire '**to read**' list."
            ],
            "metadata": {
                "azdata_cell_guid": "0b0090b0-2b28-44c6-8bb6-06b4c03c3ff1"
            },
            "attachments": {}
        },
        {
            "cell_type": "code",
            "source": [
                "-- Code Here:\r\n",
                "SELECT TOP 10 tr.user_id, COUNT(*) AS books_on_list\r\n",
                "FROM BooksDB.dbo.to_read AS tr\r\n",
                "INNER JOIN BooksDB.dbo.books AS b\r\n",
                "ON tr.book_id = b.book_id\r\n",
                "where b.book_id is not null\r\n",
                "GROUP BY tr.user_id\r\n",
                "ORDER BY books_on_list DESC;"
            ],
            "metadata": {
                "azdata_cell_guid": "c6c815f8-890d-4163-be63-3d300e320597",
                "tags": [],
                "language": "sql"
            },
            "outputs": [
                {
                    "output_type": "display_data",
                    "data": {
                        "text/html": "(10 rows affected)"
                    },
                    "metadata": {}
                },
                {
                    "output_type": "display_data",
                    "data": {
                        "text/html": "Total execution time: 00:00:00.179"
                    },
                    "metadata": {}
                },
                {
                    "output_type": "execute_result",
                    "metadata": {},
                    "execution_count": 28,
                    "data": {
                        "application/vnd.dataresource+json": {
                            "schema": {
                                "fields": [
                                    {
                                        "name": "user_id"
                                    },
                                    {
                                        "name": "books_on_list"
                                    }
                                ]
                            },
                            "data": [
                                {
                                    "0": "14771",
                                    "1": "15"
                                },
                                {
                                    "0": "12483",
                                    "1": "15"
                                },
                                {
                                    "0": "11932",
                                    "1": "15"
                                },
                                {
                                    "0": "38201",
                                    "1": "15"
                                },
                                {
                                    "0": "36923",
                                    "1": "14"
                                },
                                {
                                    "0": "41523",
                                    "1": "14"
                                },
                                {
                                    "0": "27933",
                                    "1": "14"
                                },
                                {
                                    "0": "37359",
                                    "1": "14"
                                },
                                {
                                    "0": "25734",
                                    "1": "13"
                                },
                                {
                                    "0": "51137",
                                    "1": "13"
                                }
                            ]
                        },
                        "text/html": [
                            "<table>",
                            "<tr><th>user_id</th><th>books_on_list</th></tr>",
                            "<tr><td>14771</td><td>15</td></tr>",
                            "<tr><td>12483</td><td>15</td></tr>",
                            "<tr><td>11932</td><td>15</td></tr>",
                            "<tr><td>38201</td><td>15</td></tr>",
                            "<tr><td>36923</td><td>14</td></tr>",
                            "<tr><td>41523</td><td>14</td></tr>",
                            "<tr><td>27933</td><td>14</td></tr>",
                            "<tr><td>37359</td><td>14</td></tr>",
                            "<tr><td>25734</td><td>13</td></tr>",
                            "<tr><td>51137</td><td>13</td></tr>",
                            "</table>"
                        ]
                    }
                }
            ],
            "execution_count": 28
        }
    ]
}